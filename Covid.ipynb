{
 "cells": [
  {
   "cell_type": "code",
   "execution_count": 7,
   "id": "numerous-routine",
   "metadata": {},
   "outputs": [],
   "source": [
    "import pandas as pd"
   ]
  },
  {
   "cell_type": "code",
   "execution_count": 8,
   "id": "complicated-creation",
   "metadata": {},
   "outputs": [],
   "source": [
    "df = pd.read_csv('covid-data.csv')"
   ]
  },
  {
   "cell_type": "code",
   "execution_count": 9,
   "id": "cheap-interstate",
   "metadata": {},
   "outputs": [],
   "source": [
    "df['date'] = pd.to_datetime(df['date'])"
   ]
  },
  {
   "cell_type": "code",
   "execution_count": 10,
   "id": "smaller-spare",
   "metadata": {},
   "outputs": [],
   "source": [
    "pd.set_option('display.max_columns', 50)"
   ]
  },
  {
   "cell_type": "code",
   "execution_count": 24,
   "id": "handled-tampa",
   "metadata": {},
   "outputs": [
    {
     "data": {
      "text/plain": [
       "21167    103.0\n",
       "21168     21.0\n",
       "21169     35.0\n",
       "21170     31.0\n",
       "21171     46.0\n",
       "21172     31.0\n",
       "21173     35.0\n",
       "Name: new_cases, dtype: float64"
      ]
     },
     "execution_count": 24,
     "metadata": {},
     "output_type": "execute_result"
    }
   ],
   "source": [
    "#df_greece = df[df['location'] == 'Greece']\n",
    "#df[(df_greece['new_cases']) | (df['date'] > '2020-03-22')]\n",
    "\n",
    "\n",
    "#df_newCases2 = df[(df['location'] == 'Greece') & ((df['date'] >= '2020-10-31') & (df['date'] <= '2020-11-06'))] #A3 \n",
    "#df_newCases2['new_cases']\n",
    "\n",
    "df_newCases1 = df[(df['location'] == 'Greece') & ((df['date'] >= '2020-03-16') & (df['date'] <= '2020-03-22'))] #A3\n",
    "df_newCases1['new_cases']"
   ]
  },
  {
   "cell_type": "code",
   "execution_count": null,
   "id": "controlling-charter",
   "metadata": {},
   "outputs": [],
   "source": []
  },
  {
   "cell_type": "code",
   "execution_count": null,
   "id": "annual-growth",
   "metadata": {},
   "outputs": [],
   "source": []
  }
 ],
 "metadata": {
  "kernelspec": {
   "display_name": "Python 3",
   "language": "python",
   "name": "python3"
  },
  "language_info": {
   "codemirror_mode": {
    "name": "ipython",
    "version": 3
   },
   "file_extension": ".py",
   "mimetype": "text/x-python",
   "name": "python",
   "nbconvert_exporter": "python",
   "pygments_lexer": "ipython3",
   "version": "3.9.1"
  }
 },
 "nbformat": 4,
 "nbformat_minor": 5
}
