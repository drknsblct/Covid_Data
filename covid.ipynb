{
 "cells": [
  {
   "cell_type": "code",
   "execution_count": 1,
   "id": "numerous-routine",
   "metadata": {
    "scrolled": false
   },
   "outputs": [],
   "source": [
    "import pandas as pd\n",
    "import matplotlib.pyplot as plt\n",
    "from scipy import stats "
   ]
  },
  {
   "cell_type": "code",
   "execution_count": 2,
   "id": "complicated-creation",
   "metadata": {
    "scrolled": false
   },
   "outputs": [],
   "source": [
    "df = pd.read_csv('covid-data.csv')"
   ]
  },
  {
   "cell_type": "code",
   "execution_count": 3,
   "id": "cheap-interstate",
   "metadata": {
    "scrolled": false
   },
   "outputs": [],
   "source": [
    "df['date'] = pd.to_datetime(df['date'])"
   ]
  },
  {
   "cell_type": "markdown",
   "id": "outstanding-chest",
   "metadata": {
    "scrolled": false
   },
   "source": [
    "# A1"
   ]
  },
  {
   "cell_type": "code",
   "execution_count": 4,
   "id": "adopted-baltimore",
   "metadata": {
    "pycharm": {
     "is_executing": true
    },
    "scrolled": false
   },
   "outputs": [
    {
     "name": "stdout",
     "output_type": "stream",
     "text": [
      "China had the most total cases (81484) when Greece's lockdown started\n"
     ]
    }
   ],
   "source": [
    "#Gets 23/03/2020 date and max total_cases for all locations except World\n",
    "date_greece_lockdown_started = df[(df['date'] == '2020-03-23') & (df['location'] != 'World')]['total_cases'].max()\n",
    "\n",
    "#Matches total cases with date_greek_lockdown_started to get location\n",
    "location = df.loc[df['total_cases'] == date_greece_lockdown_started] \n",
    "\n",
    "#Variables to save name and total cases after search\n",
    "name = location.iloc[0,2] #from row 0 column 2 gets name\n",
    "total_cases = location.iloc[0,4] #from row 0 column 4 gets total_deaths\n",
    "\n",
    "print(f\"{name} had the most total cases ({total_cases.astype(int)}) when Greece's lockdown started\")"
   ]
  },
  {
   "cell_type": "markdown",
   "id": "eleven-mission",
   "metadata": {},
   "source": [
    "# A2"
   ]
  },
  {
   "cell_type": "code",
   "execution_count": 5,
   "id": "deluxe-leone",
   "metadata": {
    "scrolled": true
   },
   "outputs": [
    {
     "name": "stdout",
     "output_type": "stream",
     "text": [
      "United States had the most new cases (19979) during 23-29/03/2020\n"
     ]
    }
   ],
   "source": [
    "#Gets max new_cases from second to last week of March for all locations except World\n",
    "second_to_last_week_of_march = df[(df['date'] >= '2020-03-23') & (df['date'] <= '2020-03-29') & (df['location'] != 'World')]['new_cases'].max()\n",
    "\n",
    "#Matches new_cases with second_to_last_week_of_march to get location\n",
    "location = df.loc[df['new_cases'] == second_to_last_week_of_march]  \n",
    "\n",
    "#Variables to save name and new cases after search\n",
    "name = location.iloc[0,2] #from row 0 and column 2 gets name\n",
    "new_cases = location.iloc[0,5] #from row 0 and column 5 gets new_cases\n",
    "\n",
    "print(f\"{name} had the most new cases ({new_cases.astype(int)}) during 23-29/03/2020\")"
   ]
  },
  {
   "cell_type": "markdown",
   "id": "informed-airplane",
   "metadata": {},
   "source": [
    "# A3"
   ]
  },
  {
   "cell_type": "code",
   "execution_count": 6,
   "id": "handled-tampa",
   "metadata": {
    "scrolled": true
   },
   "outputs": [
    {
     "name": "stdout",
     "output_type": "stream",
     "text": [
      "Before the first lockdown (16-22/3/2020) Greece had: 302 cases\n",
      "Before the second lockdown (31/10/2020 - 6/11/2020) Greece had: 14297 cases\n"
     ]
    }
   ],
   "source": [
    "#Sets location to Greece (Finds all rows with the location as Greece)\n",
    "greece = (df['location'] == 'Greece')\n",
    "\n",
    "#Dates before first lockdown\n",
    "dates_before_first_lockdown = df[greece & ((df['date'] >= '2020-03-16') & (df['date'] <= '2020-03-22'))] \n",
    "\n",
    "#Sum of new cases from dates before first lockdown\n",
    "sum_of_new_cases_before_first_lockdown = dates_before_first_lockdown['new_cases'].sum()\n",
    "\n",
    "#Dates before second lockdown\n",
    "dates_before_second_lockdown = df[greece & ((df['date'] >= '2020-10-31') & (df['date'] <= '2020-11-06'))] \n",
    "\n",
    "#Sum of new cases from dates before second lockdown\n",
    "sum_of_new_cases_before_second_lockdown = dates_before_second_lockdown['new_cases'].sum()\n",
    "\n",
    "print(f'Before the first lockdown (16-22/3/2020) Greece had: {sum_of_new_cases_before_first_lockdown.astype(int)} cases')\n",
    "print(f'Before the second lockdown (31/10/2020 - 6/11/2020) Greece had: {sum_of_new_cases_before_second_lockdown.astype(int)} cases')"
   ]
  },
  {
   "cell_type": "markdown",
   "id": "thick-circular",
   "metadata": {},
   "source": [
    "# A4"
   ]
  },
  {
   "cell_type": "code",
   "execution_count": 7,
   "id": "engaging-gasoline",
   "metadata": {
    "scrolled": false
   },
   "outputs": [
    {
     "name": "stdout",
     "output_type": "stream",
     "text": [
      "Belgium had the most total deaths per million: 1350.09\n"
     ]
    }
   ],
   "source": [
    "#Finds max total_deaths_per_million\n",
    "max_total_deaths_per_million = df[\"total_deaths_per_million\"].max()\n",
    "\n",
    "#Matches total_deaths_per_million with max_total_deaths_per_million to get location\n",
    "location = df.loc[df['total_deaths_per_million'] == max_total_deaths_per_million]\n",
    "\n",
    "#Variables to save name and total deaths per million after search\n",
    "name = location.iloc[0,2] #from location gets row 0 and column 2 to find the name\n",
    "total_deaths_per_million = location.iloc[0,13] #from location gets row 0 and column 13 to find the total_deaths_per_million\n",
    "\n",
    "print(f'{name} had the most total deaths per million: {total_deaths_per_million.round(decimals=2)}')"
   ]
  },
  {
   "cell_type": "markdown",
   "id": "promising-improvement",
   "metadata": {},
   "source": [
    "# A5"
   ]
  },
  {
   "cell_type": "code",
   "execution_count": 8,
   "id": "configured-mentor",
   "metadata": {},
   "outputs": [
    {
     "name": "stdout",
     "output_type": "stream",
     "text": [
      "Yemen has the most deaths per case with percentage: 28.9%\n"
     ]
    }
   ],
   "source": [
    "#Gets last date for all locations except World and International\n",
    "all_locations_latest_date = df[(df['date'] == df['date'].max()) & (df['location'] != 'World') & (df['location'] != 'International')]\n",
    "\n",
    "#Finds the percentage by total_deaths / total_cases and gets the max\n",
    "max_percentage = all_locations_latest_date['total_deaths'].div(all_locations_latest_date['total_cases']).max()\n",
    "\n",
    "#Divides each row of all_locations_latest_date with total_deaths / total_cases and matches with max_percentage to find the correct row\n",
    "location_with_most_deaths_per_case = all_locations_latest_date['total_deaths'].div(all_locations_latest_date['total_cases']) == max_percentage\n",
    "\n",
    "#Gets the name from row 0 and column location\n",
    "name = all_locations_latest_date[location_with_most_deaths_per_case]['location'].iloc[0]\n",
    "\n",
    "print(f'{name} has the most deaths per case with percentage: {(max_percentage*100).round(decimals=2)}%')"
   ]
  },
  {
   "cell_type": "markdown",
   "id": "approved-prize",
   "metadata": {},
   "source": [
    "# B1"
   ]
  },
  {
   "cell_type": "code",
   "execution_count": 9,
   "id": "enclosed-confidence",
   "metadata": {
    "scrolled": true
   },
   "outputs": [
    {
     "data": {
      "text/html": [
       "<div>\n",
       "<style scoped>\n",
       "    .dataframe tbody tr th:only-of-type {\n",
       "        vertical-align: middle;\n",
       "    }\n",
       "\n",
       "    .dataframe tbody tr th {\n",
       "        vertical-align: top;\n",
       "    }\n",
       "\n",
       "    .dataframe thead tr th {\n",
       "        text-align: left;\n",
       "    }\n",
       "\n",
       "    .dataframe thead tr:last-of-type th {\n",
       "        text-align: right;\n",
       "    }\n",
       "</style>\n",
       "<table border=\"1\" class=\"dataframe\">\n",
       "  <thead>\n",
       "    <tr>\n",
       "      <th></th>\n",
       "      <th colspan=\"2\" halign=\"left\">new_deaths</th>\n",
       "      <th colspan=\"2\" halign=\"left\">new_cases</th>\n",
       "    </tr>\n",
       "    <tr>\n",
       "      <th></th>\n",
       "      <th>median</th>\n",
       "      <th>std</th>\n",
       "      <th>median</th>\n",
       "      <th>std</th>\n",
       "    </tr>\n",
       "    <tr>\n",
       "      <th>date</th>\n",
       "      <th></th>\n",
       "      <th></th>\n",
       "      <th></th>\n",
       "      <th></th>\n",
       "    </tr>\n",
       "  </thead>\n",
       "  <tbody>\n",
       "    <tr>\n",
       "      <th>1</th>\n",
       "      <td>0.0</td>\n",
       "      <td>0.00</td>\n",
       "      <td>0.0</td>\n",
       "      <td>0.00</td>\n",
       "    </tr>\n",
       "    <tr>\n",
       "      <th>2</th>\n",
       "      <td>0.0</td>\n",
       "      <td>0.00</td>\n",
       "      <td>0.0</td>\n",
       "      <td>0.44</td>\n",
       "    </tr>\n",
       "    <tr>\n",
       "      <th>3</th>\n",
       "      <td>1.0</td>\n",
       "      <td>1.84</td>\n",
       "      <td>35.0</td>\n",
       "      <td>31.87</td>\n",
       "    </tr>\n",
       "    <tr>\n",
       "      <th>4</th>\n",
       "      <td>3.0</td>\n",
       "      <td>2.43</td>\n",
       "      <td>32.0</td>\n",
       "      <td>39.83</td>\n",
       "    </tr>\n",
       "    <tr>\n",
       "      <th>5</th>\n",
       "      <td>1.0</td>\n",
       "      <td>1.04</td>\n",
       "      <td>10.0</td>\n",
       "      <td>8.72</td>\n",
       "    </tr>\n",
       "    <tr>\n",
       "      <th>6</th>\n",
       "      <td>0.0</td>\n",
       "      <td>0.90</td>\n",
       "      <td>14.0</td>\n",
       "      <td>12.07</td>\n",
       "    </tr>\n",
       "    <tr>\n",
       "      <th>7</th>\n",
       "      <td>0.0</td>\n",
       "      <td>0.72</td>\n",
       "      <td>29.0</td>\n",
       "      <td>14.38</td>\n",
       "    </tr>\n",
       "    <tr>\n",
       "      <th>8</th>\n",
       "      <td>2.0</td>\n",
       "      <td>1.62</td>\n",
       "      <td>193.0</td>\n",
       "      <td>62.54</td>\n",
       "    </tr>\n",
       "    <tr>\n",
       "      <th>9</th>\n",
       "      <td>4.0</td>\n",
       "      <td>2.19</td>\n",
       "      <td>255.5</td>\n",
       "      <td>82.85</td>\n",
       "    </tr>\n",
       "    <tr>\n",
       "      <th>10</th>\n",
       "      <td>7.0</td>\n",
       "      <td>3.50</td>\n",
       "      <td>438.0</td>\n",
       "      <td>378.47</td>\n",
       "    </tr>\n",
       "    <tr>\n",
       "      <th>11</th>\n",
       "      <td>41.0</td>\n",
       "      <td>28.64</td>\n",
       "      <td>2402.5</td>\n",
       "      <td>621.04</td>\n",
       "    </tr>\n",
       "  </tbody>\n",
       "</table>\n",
       "</div>"
      ],
      "text/plain": [
       "     new_deaths        new_cases        \n",
       "         median    std    median     std\n",
       "date                                    \n",
       "1           0.0   0.00       0.0    0.00\n",
       "2           0.0   0.00       0.0    0.44\n",
       "3           1.0   1.84      35.0   31.87\n",
       "4           3.0   2.43      32.0   39.83\n",
       "5           1.0   1.04      10.0    8.72\n",
       "6           0.0   0.90      14.0   12.07\n",
       "7           0.0   0.72      29.0   14.38\n",
       "8           2.0   1.62     193.0   62.54\n",
       "9           4.0   2.19     255.5   82.85\n",
       "10          7.0   3.50     438.0  378.47\n",
       "11         41.0  28.64    2402.5  621.04"
      ]
     },
     "execution_count": 9,
     "metadata": {},
     "output_type": "execute_result"
    }
   ],
   "source": [
    "#Groups location Greece and months and accesses new_deaths and new_cases columns and for each finds the median and std\n",
    "greece_new_deaths_and_cases = df[greece].groupby(df[greece]['date'].dt.month)[['new_deaths', 'new_cases']].agg(['median','std']).round(decimals = 2)\n",
    "greece_new_deaths_and_cases.dropna()"
   ]
  },
  {
   "cell_type": "markdown",
   "id": "selected-stereo",
   "metadata": {},
   "source": [
    "# B2"
   ]
  },
  {
   "cell_type": "code",
   "execution_count": 10,
   "id": "through-anchor",
   "metadata": {},
   "outputs": [
    {
     "data": {
      "text/html": [
       "<div>\n",
       "<style scoped>\n",
       "    .dataframe tbody tr th:only-of-type {\n",
       "        vertical-align: middle;\n",
       "    }\n",
       "\n",
       "    .dataframe tbody tr th {\n",
       "        vertical-align: top;\n",
       "    }\n",
       "\n",
       "    .dataframe thead tr th {\n",
       "        text-align: left;\n",
       "    }\n",
       "\n",
       "    .dataframe thead tr:last-of-type th {\n",
       "        text-align: right;\n",
       "    }\n",
       "</style>\n",
       "<table border=\"1\" class=\"dataframe\">\n",
       "  <thead>\n",
       "    <tr>\n",
       "      <th></th>\n",
       "      <th colspan=\"2\" halign=\"left\">new_deaths</th>\n",
       "      <th colspan=\"2\" halign=\"left\">new_cases</th>\n",
       "    </tr>\n",
       "    <tr>\n",
       "      <th></th>\n",
       "      <th>median</th>\n",
       "      <th>std</th>\n",
       "      <th>median</th>\n",
       "      <th>std</th>\n",
       "    </tr>\n",
       "    <tr>\n",
       "      <th>date</th>\n",
       "      <th></th>\n",
       "      <th></th>\n",
       "      <th></th>\n",
       "      <th></th>\n",
       "    </tr>\n",
       "  </thead>\n",
       "  <tbody>\n",
       "    <tr>\n",
       "      <th>3</th>\n",
       "      <td>0.0</td>\n",
       "      <td>7.51</td>\n",
       "      <td>86.0</td>\n",
       "      <td>271.80</td>\n",
       "    </tr>\n",
       "    <tr>\n",
       "      <th>4</th>\n",
       "      <td>27.5</td>\n",
       "      <td>8.33</td>\n",
       "      <td>620.5</td>\n",
       "      <td>280.45</td>\n",
       "    </tr>\n",
       "    <tr>\n",
       "      <th>5</th>\n",
       "      <td>13.0</td>\n",
       "      <td>6.58</td>\n",
       "      <td>228.0</td>\n",
       "      <td>137.89</td>\n",
       "    </tr>\n",
       "    <tr>\n",
       "      <th>6</th>\n",
       "      <td>5.5</td>\n",
       "      <td>3.78</td>\n",
       "      <td>327.0</td>\n",
       "      <td>75.00</td>\n",
       "    </tr>\n",
       "    <tr>\n",
       "      <th>7</th>\n",
       "      <td>5.0</td>\n",
       "      <td>3.07</td>\n",
       "      <td>291.0</td>\n",
       "      <td>98.83</td>\n",
       "    </tr>\n",
       "    <tr>\n",
       "      <th>8</th>\n",
       "      <td>3.0</td>\n",
       "      <td>1.83</td>\n",
       "      <td>213.0</td>\n",
       "      <td>88.33</td>\n",
       "    </tr>\n",
       "    <tr>\n",
       "      <th>9</th>\n",
       "      <td>4.0</td>\n",
       "      <td>2.62</td>\n",
       "      <td>595.0</td>\n",
       "      <td>191.78</td>\n",
       "    </tr>\n",
       "    <tr>\n",
       "      <th>10</th>\n",
       "      <td>15.0</td>\n",
       "      <td>9.02</td>\n",
       "      <td>1876.0</td>\n",
       "      <td>1151.11</td>\n",
       "    </tr>\n",
       "    <tr>\n",
       "      <th>11</th>\n",
       "      <td>62.0</td>\n",
       "      <td>14.81</td>\n",
       "      <td>5667.0</td>\n",
       "      <td>1555.36</td>\n",
       "    </tr>\n",
       "  </tbody>\n",
       "</table>\n",
       "</div>"
      ],
      "text/plain": [
       "     new_deaths        new_cases         \n",
       "         median    std    median      std\n",
       "date                                     \n",
       "3           0.0   7.51      86.0   271.80\n",
       "4          27.5   8.33     620.5   280.45\n",
       "5          13.0   6.58     228.0   137.89\n",
       "6           5.5   3.78     327.0    75.00\n",
       "7           5.0   3.07     291.0    98.83\n",
       "8           3.0   1.83     213.0    88.33\n",
       "9           4.0   2.62     595.0   191.78\n",
       "10         15.0   9.02    1876.0  1151.11\n",
       "11         62.0  14.81    5667.0  1555.36"
      ]
     },
     "execution_count": 10,
     "metadata": {},
     "output_type": "execute_result"
    }
   ],
   "source": [
    "#Finds location that matches Portugal\n",
    "portugal = df['location'] == \"Portugal\" \n",
    "\n",
    "#Groups location Portugal and months and accesses new_deaths and new_cases columns and for each finds the median and std\n",
    "portugal_new_deaths_and_cases = df[portugal].groupby(df[portugal]['date'].dt.month)[['new_deaths', 'new_cases']].agg(['median','std']).round(decimals = 2)\n",
    "portugal_new_deaths_and_cases.dropna()"
   ]
  },
  {
   "cell_type": "code",
   "execution_count": 11,
   "id": "written-student",
   "metadata": {},
   "outputs": [
    {
     "data": {
      "text/plain": [
       "new_deaths  median      59.00\n",
       "            std         42.88\n",
       "new_cases   median    3409.00\n",
       "            std       1252.21\n",
       "dtype: float64"
      ]
     },
     "execution_count": 11,
     "metadata": {},
     "output_type": "execute_result"
    }
   ],
   "source": [
    "#Shows the sum of median, std for new_deaths and new_cases in Greece\n",
    "greece_new_deaths_and_cases.sum()"
   ]
  },
  {
   "cell_type": "code",
   "execution_count": 12,
   "id": "living-starter",
   "metadata": {},
   "outputs": [
    {
     "data": {
      "text/plain": [
       "new_deaths  median     135.00\n",
       "            std         57.55\n",
       "new_cases   median    9903.50\n",
       "            std       3850.55\n",
       "dtype: float64"
      ]
     },
     "execution_count": 12,
     "metadata": {},
     "output_type": "execute_result"
    }
   ],
   "source": [
    "#Shows the sum of median, std for new_deaths and new_cases in Portugal\n",
    "portugal_new_deaths_and_cases.sum()"
   ]
  },
  {
   "cell_type": "code",
   "execution_count": 13,
   "id": "intelligent-sustainability",
   "metadata": {},
   "outputs": [
    {
     "name": "stdout",
     "output_type": "stream",
     "text": [
      "Based on the above data Greece does better than Portugal\n"
     ]
    }
   ],
   "source": [
    "print('Based on the above data Greece does better than Portugal')"
   ]
  },
  {
   "cell_type": "markdown",
   "id": "secondary-design",
   "metadata": {},
   "source": [
    "# B3"
   ]
  },
  {
   "cell_type": "code",
   "execution_count": 14,
   "id": "chinese-charleston",
   "metadata": {},
   "outputs": [],
   "source": [
    "#Finds location that matches Japan\n",
    "japan = df['location'] == 'Japan'\n",
    "\n",
    "japan_total_cases = df[japan]['total_cases'].dropna()\n",
    "japan_total_tests = df[japan]['total_tests'].dropna()\n",
    "japan_total_deaths = df[japan]['total_deaths'].dropna()"
   ]
  },
  {
   "cell_type": "code",
   "execution_count": 15,
   "id": "chemical-perfume",
   "metadata": {},
   "outputs": [
    {
     "name": "stdout",
     "output_type": "stream",
     "text": [
      "Japan Total Cases:\n",
      "Minimum Cases: 1\n",
      "Maximum Cases: 133929\n",
      "Average Number of Cases: 36704.37\n",
      "Variance: 1450026028.23\n",
      "Standard Deviation: 38079.21\n"
     ]
    }
   ],
   "source": [
    "#Prints descriptive statistics\n",
    "print('Japan Total Cases:\\nMinimum Cases:',japan_total_cases.min().astype(int))\n",
    "print('Maximum Cases:',japan_total_cases.max().astype(int))\n",
    "print('Average Number of Cases:',japan_total_cases.mean().round(decimals=2))\n",
    "print('Variance:',japan_total_cases.var().round(decimals=2))\n",
    "print('Standard Deviation:',japan_total_cases.std().round(decimals=2))"
   ]
  },
  {
   "cell_type": "code",
   "execution_count": 16,
   "id": "worse-beatles",
   "metadata": {
    "scrolled": true
   },
   "outputs": [
    {
     "data": {
      "text/plain": [
       "[<matplotlib.lines.Line2D at 0x137bbc280>]"
      ]
     },
     "execution_count": 16,
     "metadata": {},
     "output_type": "execute_result"
    },
    {
     "data": {
      "image/png": "[encoded data removed]",
      "text/plain": [
       "<Figure size 432x288 with 1 Axes>"
      ]
     },
     "metadata": {
      "needs_background": "light"
     },
     "output_type": "display_data"
    }
   ],
   "source": [
    "plt.plot(japan_total_cases)"
   ]
  },
  {
   "cell_type": "code",
   "execution_count": 17,
   "id": "collected-plumbing",
   "metadata": {},
   "outputs": [
    {
     "name": "stdout",
     "output_type": "stream",
     "text": [
      "Japan Total Tests:\n",
      "Minimum Tests: 5266\n",
      "Maximum Tests: 3703793\n",
      "Average Number of Tests: 1869293.82\n",
      "Variance: 1941872161666.19\n",
      "Standard Deviation: 1393510.73\n"
     ]
    }
   ],
   "source": [
    "print('Japan Total Tests:\\nMinimum Tests:',japan_total_tests.min().astype(int))\n",
    "print('Maximum Tests:',japan_total_tests.max().astype(int))\n",
    "print('Average Number of Tests:',japan_total_tests.mean().round(decimals=2))\n",
    "print('Variance:',japan_total_tests.var().round(decimals=2))\n",
    "print('Standard Deviation:',japan_total_tests.std().round(decimals=2))"
   ]
  },
  {
   "cell_type": "code",
   "execution_count": 18,
   "id": "utility-expense",
   "metadata": {},
   "outputs": [
    {
     "data": {
      "text/plain": [
       "[<matplotlib.lines.Line2D at 0x137c99dc0>]"
      ]
     },
     "execution_count": 18,
     "metadata": {},
     "output_type": "execute_result"
    },
    {
     "data": {
      "image/png": "[encoded data removed]",
      "text/plain": [
       "<Figure size 432x288 with 1 Axes>"
      ]
     },
     "metadata": {
      "needs_background": "light"
     },
     "output_type": "display_data"
    }
   ],
   "source": [
    "plt.plot(japan_total_tests)"
   ]
  },
  {
   "cell_type": "code",
   "execution_count": 19,
   "id": "legitimate-scheduling",
   "metadata": {},
   "outputs": [
    {
     "name": "stdout",
     "output_type": "stream",
     "text": [
      "Japan Total Deaths:\n",
      "Minimum Deaths: 1\n",
      "Maximum Deaths: 1989\n",
      "Average Number of Deaths: 909.93\n",
      "Variance: 375126.75\n",
      "Standard Deviation: 612.48\n"
     ]
    }
   ],
   "source": [
    "print('Japan Total Deaths:\\nMinimum Deaths:',japan_total_deaths.min().astype(int))\n",
    "print('Maximum Deaths:',japan_total_deaths.max().astype(int))\n",
    "print('Average Number of Deaths:',japan_total_deaths.mean().round(decimals=2))\n",
    "print('Variance:',japan_total_deaths.var().round(decimals=2))\n",
    "print('Standard Deviation:',japan_total_deaths.std().round(decimals=2))"
   ]
  },
  {
   "cell_type": "code",
   "execution_count": 20,
   "id": "indonesian-august",
   "metadata": {
    "scrolled": true
   },
   "outputs": [
    {
     "data": {
      "text/plain": [
       "[<matplotlib.lines.Line2D at 0x137cfea90>]"
      ]
     },
     "execution_count": 20,
     "metadata": {},
     "output_type": "execute_result"
    },
    {
     "data": {
      "image/png": "[encoded data removed]",
      "text/plain": [
       "<Figure size 432x288 with 1 Axes>"
      ]
     },
     "metadata": {
      "needs_background": "light"
     },
     "output_type": "display_data"
    }
   ],
   "source": [
    "plt.plot(japan_total_deaths)"
   ]
  },
  {
   "cell_type": "markdown",
   "id": "likely-shape",
   "metadata": {},
   "source": [
    "# C1"
   ]
  },
  {
   "cell_type": "code",
   "execution_count": 21,
   "id": "reported-surgeon",
   "metadata": {},
   "outputs": [],
   "source": [
    "#Correlation\n",
    "world = df[df['location'] == 'World']\n",
    "\n",
    "world_total_cases_and_deaths = world[['total_cases','total_deaths']].dropna()\n",
    "\n",
    "r, p = stats.pearsonr(world_total_cases_and_deaths['total_cases'], world_total_cases_and_deaths['total_deaths'])"
   ]
  },
  {
   "cell_type": "code",
   "execution_count": 22,
   "id": "varied-depression",
   "metadata": {},
   "outputs": [
    {
     "data": {
      "text/plain": [
       "0.97"
      ]
     },
     "execution_count": 22,
     "metadata": {},
     "output_type": "execute_result"
    }
   ],
   "source": [
    "r.round(decimals=2)"
   ]
  },
  {
   "cell_type": "code",
   "execution_count": 23,
   "id": "secure-grounds",
   "metadata": {},
   "outputs": [
    {
     "data": {
      "text/plain": [
       "1.0450573665648478e-201"
      ]
     },
     "execution_count": 23,
     "metadata": {},
     "output_type": "execute_result"
    }
   ],
   "source": [
    "p"
   ]
  },
  {
   "cell_type": "markdown",
   "id": "worse-rebecca",
   "metadata": {},
   "source": [
    "# C2"
   ]
  },
  {
   "cell_type": "code",
   "execution_count": 24,
   "id": "rubber-certification",
   "metadata": {},
   "outputs": [],
   "source": [
    "#T test\n",
    "max_date_locations = df[(df['date'] == df['date'].max()) & (df['location'] != 'World') & (df['location'] != 'International')][['gdp_per_capita','total_deaths_per_million']].dropna()\n",
    "\n",
    "t, p = stats.ttest_rel(max_date_locations['gdp_per_capita'], max_date_locations['total_deaths_per_million'])"
   ]
  },
  {
   "cell_type": "code",
   "execution_count": 25,
   "id": "furnished-termination",
   "metadata": {},
   "outputs": [
    {
     "data": {
      "text/plain": [
       "12.44"
      ]
     },
     "execution_count": 25,
     "metadata": {},
     "output_type": "execute_result"
    }
   ],
   "source": [
    "t.round(decimals=2)"
   ]
  },
  {
   "cell_type": "code",
   "execution_count": 26,
   "id": "noticed-malawi",
   "metadata": {},
   "outputs": [
    {
     "data": {
      "text/plain": [
       "1.415571764830309e-25"
      ]
     },
     "execution_count": 26,
     "metadata": {},
     "output_type": "execute_result"
    }
   ],
   "source": [
    "p"
   ]
  },
  {
   "cell_type": "markdown",
   "id": "exterior-element",
   "metadata": {},
   "source": [
    "# C3"
   ]
  },
  {
   "cell_type": "code",
   "execution_count": 27,
   "id": "thousand-principal",
   "metadata": {},
   "outputs": [],
   "source": [
    "#Correlation\n",
    "\n",
    "total_tests_and_total_cases_max_date_locations= df[(df['date'] == df['date'].max()) & (df['location'] != 'World') & (df['location'] != 'International')][['total_tests','total_cases']].dropna() \n",
    "\n",
    "r, p = stats.pearsonr(total_tests_and_total_cases_max_date_locations['total_tests'], total_tests_and_total_cases_max_date_locations['total_cases'])"
   ]
  },
  {
   "cell_type": "code",
   "execution_count": 28,
   "id": "foster-harvest",
   "metadata": {},
   "outputs": [
    {
     "data": {
      "text/plain": [
       "0.83"
      ]
     },
     "execution_count": 28,
     "metadata": {},
     "output_type": "execute_result"
    }
   ],
   "source": [
    "r.round(decimals=2)"
   ]
  },
  {
   "cell_type": "code",
   "execution_count": 29,
   "id": "hungarian-cricket",
   "metadata": {},
   "outputs": [
    {
     "data": {
      "text/plain": [
       "0.04"
      ]
     },
     "execution_count": 29,
     "metadata": {},
     "output_type": "execute_result"
    }
   ],
   "source": [
    "p.round(decimals=2)"
   ]
  },
  {
   "cell_type": "markdown",
   "id": "deluxe-trash",
   "metadata": {},
   "source": [
    "# C4"
   ]
  },
  {
   "cell_type": "code",
   "execution_count": 30,
   "id": "collected-viking",
   "metadata": {},
   "outputs": [],
   "source": [
    "#Correlation\n",
    "world = df[df['location'] == 'World']\n",
    "\n",
    "\n",
    "male_smokers_and_cardio_death_rate = df[(df['date'] == df['date'].max()) & (df['location'] != 'World') & (df['location'] != 'International')][['male_smokers','cardiovasc_death_rate']].dropna() \n",
    "\n",
    "r, p = stats.pearsonr(male_smokers_and_cardio_death_rate['male_smokers'], male_smokers_and_cardio_death_rate['cardiovasc_death_rate'])"
   ]
  },
  {
   "cell_type": "code",
   "execution_count": 31,
   "id": "tight-ukraine",
   "metadata": {},
   "outputs": [
    {
     "data": {
      "text/plain": [
       "0.41"
      ]
     },
     "execution_count": 31,
     "metadata": {},
     "output_type": "execute_result"
    }
   ],
   "source": [
    "r.round(decimals=2) "
   ]
  },
  {
   "cell_type": "code",
   "execution_count": 32,
   "id": "early-industry",
   "metadata": {},
   "outputs": [
    {
     "data": {
      "text/plain": [
       "5.100672716077338e-07"
      ]
     },
     "execution_count": 32,
     "metadata": {},
     "output_type": "execute_result"
    }
   ],
   "source": [
    "p "
   ]
  },
  {
   "cell_type": "code",
   "execution_count": 33,
   "id": "healthy-pointer",
   "metadata": {},
   "outputs": [],
   "source": [
    "#Correlation\n",
    "world = df[df['location'] == 'World']\n",
    "\n",
    "\n",
    "poverty_and_life_expectancy = df[(df['date'] == df['date'].max()) & (df['location'] != 'World') & (df['location'] != 'International')][['extreme_poverty','life_expectancy']].dropna() \n",
    "\n",
    "r, p = stats.pearsonr(poverty_and_life_expectancy['extreme_poverty'], poverty_and_life_expectancy['life_expectancy'])"
   ]
  },
  {
   "cell_type": "code",
   "execution_count": 34,
   "id": "billion-sector",
   "metadata": {},
   "outputs": [
    {
     "data": {
      "text/plain": [
       "-0.75"
      ]
     },
     "execution_count": 34,
     "metadata": {},
     "output_type": "execute_result"
    }
   ],
   "source": [
    "r.round(decimals=2)"
   ]
  },
  {
   "cell_type": "code",
   "execution_count": 35,
   "id": "false-diamond",
   "metadata": {},
   "outputs": [
    {
     "data": {
      "text/plain": [
       "5.413033000441598e-23"
      ]
     },
     "execution_count": 35,
     "metadata": {},
     "output_type": "execute_result"
    }
   ],
   "source": [
    "p"
   ]
  },
  {
   "cell_type": "code",
   "execution_count": null,
   "id": "hydraulic-jewelry",
   "metadata": {},
   "outputs": [],
   "source": []
  }
 ],
 "metadata": {
  "kernelspec": {
   "display_name": "Python 3",
   "language": "python",
   "name": "python3"
  },
  "language_info": {
   "codemirror_mode": {
    "name": "ipython",
    "version": 3
   },
   "file_extension": ".py",
   "mimetype": "text/x-python",
   "name": "python",
   "nbconvert_exporter": "python",
   "pygments_lexer": "ipython3",
   "version": "3.9.1"
  }
 },
 "nbformat": 4,
 "nbformat_minor": 5
}
