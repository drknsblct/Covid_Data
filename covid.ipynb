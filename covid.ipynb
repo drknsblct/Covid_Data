{
 "cells": [
  {
   "cell_type": "code",
   "execution_count": 17,
   "id": "numerous-routine",
   "metadata": {
    "scrolled": false
   },
   "outputs": [],
   "source": [
    "import pandas as pd\n",
    "from datetime import timedelta"
   ]
  },
  {
   "cell_type": "code",
   "execution_count": 18,
   "id": "complicated-creation",
   "metadata": {
    "scrolled": false
   },
   "outputs": [],
   "source": [
    "df = pd.read_csv('covid-data.csv')"
   ]
  },
  {
   "cell_type": "code",
   "execution_count": 19,
   "id": "cheap-interstate",
   "metadata": {
    "scrolled": false
   },
   "outputs": [],
   "source": [
    "df['date'] = pd.to_datetime(df['date'])"
   ]
  },
  {
   "cell_type": "code",
   "execution_count": 20,
   "id": "smaller-spare",
   "metadata": {
    "scrolled": false
   },
   "outputs": [],
   "source": [
    "pd.set_option('display.max_rows', 187)\n",
    "pd.set_option('display.max_columns', 50)"
   ]
  },
  {
   "cell_type": "code",
   "execution_count": 21,
   "id": "double-climb",
   "metadata": {
    "scrolled": false
   },
   "outputs": [],
   "source": [
    "#A1"
   ]
  },
  {
   "cell_type": "code",
   "execution_count": 22,
   "id": "adopted-baltimore",
   "metadata": {
    "pycharm": {
     "is_executing": true
    },
    "scrolled": false
   },
   "outputs": [
    {
     "name": "stdout",
     "output_type": "stream",
     "text": [
      "China had the most total cases (81484) when Greece's lockdown started\n"
     ]
    }
   ],
   "source": [
    "date_greek_lockdown_started = df[(df['date'] == '2020-03-23') & (df['location'] != 'World')]['total_cases'].max()\n",
    "location = df.loc[df['total_cases'] == date_greek_lockdown_started] #A1\n",
    "\n",
    "#Variables to save name and number of cases\n",
    "name = location.iloc[0,2]\n",
    "total_cases = location.iloc[0,4]\n",
    "\n",
    "print(f\"{name} had the most total cases ({total_cases.astype(int)}) when Greece's lockdown started\")"
   ]
  },
  {
   "cell_type": "code",
   "execution_count": 23,
   "id": "spectacular-experiment",
   "metadata": {},
   "outputs": [],
   "source": [
    "#A2"
   ]
  },
  {
   "cell_type": "code",
   "execution_count": 24,
   "id": "deluxe-leone",
   "metadata": {
    "scrolled": true
   },
   "outputs": [
    {
     "name": "stdout",
     "output_type": "stream",
     "text": [
      "United States had the most new cases (19979) during 23-29/03/2020\n"
     ]
    }
   ],
   "source": [
    "second_to_last_week_of_march = df[(df['date'] >= '2020-03-23') & (df['date'] <= '2020-03-29') & (df['location'] != 'World')]['new_cases'].max()\n",
    "location = df.loc[df['new_cases'] == second_to_last_week_of_march] #A2 \n",
    "#Needs output with name and number of new cases\n",
    "\n",
    "name = location.iloc[0,2]\n",
    "new_cases = location.iloc[0,5]\n",
    "\n",
    "print(f\"{name} had the most new cases ({new_cases.astype(int)}) during 23-29/03/2020\")"
   ]
  },
  {
   "cell_type": "code",
   "execution_count": 25,
   "id": "meaning-costa",
   "metadata": {},
   "outputs": [],
   "source": [
    "#A3"
   ]
  },
  {
   "cell_type": "code",
   "execution_count": 26,
   "id": "handled-tampa",
   "metadata": {
    "scrolled": true
   },
   "outputs": [
    {
     "name": "stdout",
     "output_type": "stream",
     "text": [
      "Before the first lockdown (16-22/3/2020) Greece had: 302 cases\n",
      "Before the second lockdown (31/10/2020 - 6/11/2020) Greece had: 14297 cases\n"
     ]
    }
   ],
   "source": [
    "greece = (df['location'] == 'Greece')\n",
    "\n",
    "dates_before_first_lockdown = df[greece & ((df['date'] >= '2020-03-16') & (df['date'] <= '2020-03-22'))] #A3\n",
    "sum_of_new_cases_before_first_lockdown = dates_before_first_lockdown['new_cases'].sum()\n",
    "\n",
    "dates_before_second_lockdown = df[greece & ((df['date'] >= '2020-10-31') & (df['date'] <= '2020-11-06'))] #A3 \n",
    "sum_of_new_cases_before_second_lockdown = dates_before_second_lockdown['new_cases'].sum()\n",
    "\n",
    "print(f'Before the first lockdown (16-22/3/2020) Greece had: {sum_of_new_cases_before_first_lockdown.astype(int)} cases')\n",
    "print(f'Before the second lockdown (31/10/2020 - 6/11/2020) Greece had: {sum_of_new_cases_before_second_lockdown.astype(int)} cases')"
   ]
  },
  {
   "cell_type": "code",
   "execution_count": 27,
   "id": "visible-cornwall",
   "metadata": {},
   "outputs": [],
   "source": [
    "#A4"
   ]
  },
  {
   "cell_type": "code",
   "execution_count": 28,
   "id": "engaging-gasoline",
   "metadata": {
    "scrolled": false
   },
   "outputs": [
    {
     "name": "stdout",
     "output_type": "stream",
     "text": [
      "Belgium had the most total deaths per million: 1350.09\n"
     ]
    }
   ],
   "source": [
    "max_total_deaths_per_million = df[\"total_deaths_per_million\"].max()\n",
    "location = df.loc[df['total_deaths_per_million'] == max_total_deaths_per_million]\n",
    "\n",
    "name = location.iloc[0,2]\n",
    "total_deaths_per_million = location.iloc[0,13]\n",
    "\n",
    "print(f'{name} had the most total deaths per million: {total_deaths_per_million.round(decimals=2)}')"
   ]
  },
  {
   "cell_type": "code",
   "execution_count": 29,
   "id": "faced-palace",
   "metadata": {},
   "outputs": [],
   "source": [
    "#A5"
   ]
  },
  {
   "cell_type": "code",
   "execution_count": 30,
   "id": "cosmetic-machinery",
   "metadata": {
    "scrolled": false
   },
   "outputs": [
    {
     "name": "stdout",
     "output_type": "stream",
     "text": [
      "United States have the highest percentage of deaths per case with 2.07%\n"
     ]
    }
   ],
   "source": [
    "max_total_deaths = df[(df['location'] != 'World')]['total_deaths'].max()\n",
    "location_of_max_total_deaths = df.loc[df['total_deaths'] == max_total_deaths]#USA\n",
    "\n",
    "max_total_cases = df[(df['location'] != 'World')]['total_cases'].max()\n",
    "location_of_max_total_cases = df.loc[df['total_cases'] == max_total_cases] #USA\n",
    "\n",
    "name = location_of_max_total_deaths.iloc[0,2]\n",
    "\n",
    "percentage_of_deaths_per_case = (max_total_deaths/max_total_cases)*100\n",
    "\n",
    "print(f'{name} have the highest percentage of deaths per case ({percentage_of_deaths_per_case.round(decimals = 2)}%')"
   ]
  },
  {
   "cell_type": "code",
   "execution_count": null,
   "id": "capable-civilian",
   "metadata": {},
   "outputs": [],
   "source": []
  },
  {
   "cell_type": "code",
   "execution_count": null,
   "id": "private-stability",
   "metadata": {},
   "outputs": [],
   "source": []
  },
  {
   "cell_type": "code",
   "execution_count": null,
   "id": "identical-correlation",
   "metadata": {},
   "outputs": [],
   "source": []
  },
  {
   "cell_type": "code",
   "execution_count": 31,
   "id": "alone-continuity",
   "metadata": {},
   "outputs": [],
   "source": [
    "#B1"
   ]
  },
  {
   "cell_type": "code",
   "execution_count": 32,
   "id": "enclosed-confidence",
   "metadata": {},
   "outputs": [
    {
     "data": {
      "text/plain": [
       "0.0       65\n",
       "10.0      10\n",
       "15.0       7\n",
       "3.0        6\n",
       "31.0       5\n",
       "6.0        5\n",
       "19.0       5\n",
       "25.0       4\n",
       "21.0       4\n",
       "13.0       4\n",
       "9.0        4\n",
       "20.0       4\n",
       "2.0        4\n",
       "27.0       4\n",
       "23.0       3\n",
       "57.0       3\n",
       "11.0       3\n",
       "22.0       3\n",
       "4.0        3\n",
       "28.0       3\n",
       "33.0       3\n",
       "204.0      3\n",
       "52.0       3\n",
       "29.0       3\n",
       "71.0       3\n",
       "1.0        3\n",
       "251.0      2\n",
       "139.0      2\n",
       "56.0       2\n",
       "35.0       2\n",
       "16.0       2\n",
       "7.0        2\n",
       "147.0      2\n",
       "34.0       2\n",
       "202.0      2\n",
       "40.0       2\n",
       "75.0       2\n",
       "55.0       2\n",
       "60.0       2\n",
       "24.0       2\n",
       "95.0       2\n",
       "118.0      2\n",
       "250.0      2\n",
       "14.0       2\n",
       "8.0        2\n",
       "3038.0     1\n",
       "1695.0     1\n",
       "882.0      1\n",
       "482.0      1\n",
       "341.0      1\n",
       "17.0       1\n",
       "438.0      1\n",
       "300.0      1\n",
       "48.0       1\n",
       "1889.0     1\n",
       "3209.0     1\n",
       "138.0      1\n",
       "193.0      1\n",
       "2835.0     1\n",
       "1211.0     1\n",
       "212.0      1\n",
       "2166.0     1\n",
       "50.0       1\n",
       "452.0      1\n",
       "110.0      1\n",
       "3227.0     1\n",
       "714.0      1\n",
       "283.0      1\n",
       "841.0      1\n",
       "216.0      1\n",
       "3316.0     1\n",
       "399.0      1\n",
       "248.0      1\n",
       "352.0      1\n",
       "286.0      1\n",
       "372.0      1\n",
       "302.0      1\n",
       "183.0      1\n",
       "76.0       1\n",
       "65.0       1\n",
       "453.0      1\n",
       "99.0       1\n",
       "263.0      1\n",
       "243.0      1\n",
       "180.0      1\n",
       "156.0      1\n",
       "2751.0     1\n",
       "46.0       1\n",
       "333.0      1\n",
       "310.0      1\n",
       "1498.0     1\n",
       "103.0      1\n",
       "36.0       1\n",
       "2447.0     1\n",
       "2422.0     1\n",
       "2198.0     1\n",
       "18.0       1\n",
       "226.0      1\n",
       "435.0      1\n",
       "293.0      1\n",
       "391.0      1\n",
       "1489.0     1\n",
       "42.0       1\n",
       "102.0      1\n",
       "1547.0     1\n",
       "460.0      1\n",
       "416.0      1\n",
       "432.0      1\n",
       "359.0      1\n",
       "126.0      1\n",
       "43.0       1\n",
       "74.0       1\n",
       "306.0      1\n",
       "2055.0     1\n",
       "150.0      1\n",
       "282.0      1\n",
       "865.0      1\n",
       "235.0      1\n",
       "1686.0     1\n",
       "280.0      1\n",
       "241.0      1\n",
       "207.0      1\n",
       "790.0      1\n",
       "186.0      1\n",
       "2383.0     1\n",
       "2551.0     1\n",
       "935.0      1\n",
       "38.0       1\n",
       "233.0      1\n",
       "78.0       1\n",
       "240.0      1\n",
       "1151.0     1\n",
       "157.0      1\n",
       "229.0      1\n",
       "294.0      1\n",
       "358.0      1\n",
       "94.0       1\n",
       "61.0       1\n",
       "164.0      1\n",
       "77.0       1\n",
       "434.0      1\n",
       "338.0      1\n",
       "503.0      1\n",
       "177.0      1\n",
       "5.0        1\n",
       "267.0      1\n",
       "169.0      1\n",
       "2309.0     1\n",
       "2646.0     1\n",
       "151.0      1\n",
       "408.0      1\n",
       "70.0       1\n",
       "667.0      1\n",
       "2915.0     1\n",
       "1387.0     1\n",
       "62.0       1\n",
       "269.0      1\n",
       "155.0      1\n",
       "411.0      1\n",
       "311.0      1\n",
       "315.0      1\n",
       "217.0      1\n",
       "1678.0     1\n",
       "1256.0     1\n",
       "406.0      1\n",
       "26.0       1\n",
       "2555.0     1\n",
       "168.0      1\n",
       "Name: new_cases, dtype: int64"
      ]
     },
     "execution_count": 32,
     "metadata": {},
     "output_type": "execute_result"
    }
   ],
   "source": [
    "pd.set_option('display.max_rows', 330)\n",
    "#greece_date = df[greece]['date'] + timedelta(days=0)\n",
    "\n",
    "#(greece['date'] )\n",
    "\n",
    "#MonthsDict = \n",
    "\n",
    "df\n",
    "\n",
    "a = df.groupby(['location'])\n",
    "a.get_group('Greece')['new_cases'].value_counts()"
   ]
  },
  {
   "cell_type": "code",
   "execution_count": null,
   "id": "guided-klein",
   "metadata": {},
   "outputs": [],
   "source": []
  }
 ],
 "metadata": {
  "kernelspec": {
   "display_name": "Python 3",
   "language": "python",
   "name": "python3"
  },
  "language_info": {
   "codemirror_mode": {
    "name": "ipython",
    "version": 3
   },
   "file_extension": ".py",
   "mimetype": "text/x-python",
   "name": "python",
   "nbconvert_exporter": "python",
   "pygments_lexer": "ipython3",
   "version": "3.9.1"
  }
 },
 "nbformat": 4,
 "nbformat_minor": 5
}
