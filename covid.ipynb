{
 "cells": [
  {
   "cell_type": "code",
   "execution_count": null,
   "id": "numerous-routine",
   "metadata": {
    "scrolled": false
   },
   "outputs": [],
   "source": [
    "import pandas as pd\n",
    "import matplotlib.pyplot as plt\n",
    "from scipy import stats "
   ]
  },
  {
   "cell_type": "code",
   "execution_count": null,
   "id": "complicated-creation",
   "metadata": {
    "scrolled": false
   },
   "outputs": [],
   "source": [
    "df = pd.read_csv('covid-data.csv')"
   ]
  },
  {
   "cell_type": "code",
   "execution_count": null,
   "id": "cheap-interstate",
   "metadata": {
    "scrolled": false
   },
   "outputs": [],
   "source": [
    "df['date'] = pd.to_datetime(df['date'])"
   ]
  },
  {
   "cell_type": "code",
   "execution_count": null,
   "id": "smaller-spare",
   "metadata": {
    "scrolled": false
   },
   "outputs": [],
   "source": [
    "pd.set_option('display.max_rows', 187)\n",
    "pd.set_option('display.max_columns', 50)"
   ]
  },
  {
   "cell_type": "markdown",
   "id": "outstanding-chest",
   "metadata": {
    "scrolled": false
   },
   "source": [
    "# A1"
   ]
  },
  {
   "cell_type": "code",
   "execution_count": null,
   "id": "adopted-baltimore",
   "metadata": {
    "pycharm": {
     "is_executing": true
    },
    "scrolled": false
   },
   "outputs": [],
   "source": [
    "date_greek_lockdown_started = df[(df['date'] == '2020-03-23') & (df['location'] != 'World')]['total_cases'].max()\n",
    "location = df.loc[df['total_cases'] == date_greek_lockdown_started] #A1\n",
    "\n",
    "#Variables to save name and number of cases\n",
    "name = location.iloc[0,2]\n",
    "total_cases = location.iloc[0,4]\n",
    "\n",
    "print(f\"{name} had the most total cases ({total_cases.astype(int)}) when Greece's lockdown started\")"
   ]
  },
  {
   "cell_type": "markdown",
   "id": "eleven-mission",
   "metadata": {},
   "source": [
    "# A2"
   ]
  },
  {
   "cell_type": "code",
   "execution_count": null,
   "id": "deluxe-leone",
   "metadata": {
    "scrolled": true
   },
   "outputs": [],
   "source": [
    "second_to_last_week_of_march = df[(df['date'] >= '2020-03-23') & (df['date'] <= '2020-03-29') & (df['location'] != 'World')]['new_cases'].max()\n",
    "location = df.loc[df['new_cases'] == second_to_last_week_of_march] #A2 \n",
    "#Needs output with name and number of new cases\n",
    "\n",
    "name = location.iloc[0,2]\n",
    "new_cases = location.iloc[0,5]\n",
    "\n",
    "print(f\"{name} had the most new cases ({new_cases.astype(int)}) during 23-29/03/2020\")"
   ]
  },
  {
   "cell_type": "markdown",
   "id": "informed-airplane",
   "metadata": {},
   "source": [
    "# A3"
   ]
  },
  {
   "cell_type": "code",
   "execution_count": null,
   "id": "handled-tampa",
   "metadata": {
    "scrolled": true
   },
   "outputs": [],
   "source": [
    "greece = (df['location'] == 'Greece')\n",
    "\n",
    "dates_before_first_lockdown = df[greece & ((df['date'] >= '2020-03-16') & (df['date'] <= '2020-03-22'))] #A3\n",
    "sum_of_new_cases_before_first_lockdown = dates_before_first_lockdown['new_cases'].sum()\n",
    "\n",
    "dates_before_second_lockdown = df[greece & ((df['date'] >= '2020-10-31') & (df['date'] <= '2020-11-06'))] #A3 \n",
    "sum_of_new_cases_before_second_lockdown = dates_before_second_lockdown['new_cases'].sum()\n",
    "\n",
    "print(f'Before the first lockdown (16-22/3/2020) Greece had: {sum_of_new_cases_before_first_lockdown.astype(int)} cases')\n",
    "print(f'Before the second lockdown (31/10/2020 - 6/11/2020) Greece had: {sum_of_new_cases_before_second_lockdown.astype(int)} cases')"
   ]
  },
  {
   "cell_type": "markdown",
   "id": "thick-circular",
   "metadata": {},
   "source": [
    "# A4"
   ]
  },
  {
   "cell_type": "code",
   "execution_count": null,
   "id": "engaging-gasoline",
   "metadata": {
    "scrolled": false
   },
   "outputs": [],
   "source": [
    "max_total_deaths_per_million = df[\"total_deaths_per_million\"].max()\n",
    "location = df.loc[df['total_deaths_per_million'] == max_total_deaths_per_million]\n",
    "\n",
    "name = location.iloc[0,2]\n",
    "total_deaths_per_million = location.iloc[0,13]\n",
    "\n",
    "print(f'{name} had the most total deaths per million: {total_deaths_per_million.round(decimals=2)}')"
   ]
  },
  {
   "cell_type": "markdown",
   "id": "promising-improvement",
   "metadata": {},
   "source": [
    "# A5"
   ]
  },
  {
   "cell_type": "code",
   "execution_count": null,
   "id": "configured-mentor",
   "metadata": {},
   "outputs": [],
   "source": [
    "all_locations_latest_date = df[(df['date'] == df['date'].max()) & (df['location'] != 'World') & (df['location'] != 'International')]\n",
    "max_percentage = all_locations_latest_date['total_deaths'].div(all_locations_latest_date['total_cases']).max()\n",
    "\n",
    "location_with_most_deaths_per_case = all_locations_latest_date['total_deaths'].div(all_locations_latest_date['total_cases']) == max_percentage\n",
    "name = all_locations_latest_date[location_with_most_deaths_per_case]['location'].iloc[0]\n",
    "\n",
    "print(f'{name} has the most deaths per case: {(max_percentage*100).round(decimals=2)}%')"
   ]
  },
  {
   "cell_type": "markdown",
   "id": "approved-prize",
   "metadata": {},
   "source": [
    "# B1"
   ]
  },
  {
   "cell_type": "code",
   "execution_count": null,
   "id": "enclosed-confidence",
   "metadata": {
    "scrolled": true
   },
   "outputs": [],
   "source": [
    "greece_new_deaths_and_cases = df[greece].groupby(df[greece]['date'].dt.month)[['new_deaths', 'new_cases']].agg(['median','std']).round(decimals = 2)\n",
    "greece_new_deaths_and_cases"
   ]
  },
  {
   "cell_type": "markdown",
   "id": "selected-stereo",
   "metadata": {},
   "source": [
    "# B2"
   ]
  },
  {
   "cell_type": "code",
   "execution_count": null,
   "id": "through-anchor",
   "metadata": {},
   "outputs": [],
   "source": [
    "portugal = df['location'] == \"Portugal\"\n",
    "\n",
    "portugal_new_deaths_and_cases = df[portugal].groupby(df[portugal]['date'].dt.month)[['new_deaths', 'new_cases']].agg(['median','std']).round(decimals = 2)\n",
    "portugal_new_deaths_and_cases"
   ]
  },
  {
   "cell_type": "code",
   "execution_count": null,
   "id": "written-student",
   "metadata": {},
   "outputs": [],
   "source": [
    "greece_new_deaths_and_cases.sum()"
   ]
  },
  {
   "cell_type": "code",
   "execution_count": null,
   "id": "living-starter",
   "metadata": {},
   "outputs": [],
   "source": [
    "portugal_new_deaths_and_cases.sum()"
   ]
  },
  {
   "cell_type": "code",
   "execution_count": null,
   "id": "intelligent-sustainability",
   "metadata": {},
   "outputs": [],
   "source": [
    "print('Based on the above data Greece does better than Portugal')"
   ]
  },
  {
   "cell_type": "markdown",
   "id": "secondary-design",
   "metadata": {},
   "source": [
    "# B3"
   ]
  },
  {
   "cell_type": "code",
   "execution_count": null,
   "id": "chinese-charleston",
   "metadata": {},
   "outputs": [],
   "source": [
    "pd.set_option('display.max_rows', 330)\n",
    "pd.set_option('display.max_columns', 50)\n",
    "\n",
    "japan = df['location'] == 'Japan'\n",
    "\n",
    "japan_A = df[japan].groupby(df[japan]['date'].dt.month)[['new_deaths', 'new_cases']].agg(['median','std']).round(decimals = 2)\n",
    "\n",
    "japan_total_cases = df[japan]['total_cases'].dropna()\n",
    "japan_total_tests = df[japan]['total_tests'].dropna()\n",
    "japan_total_deaths = df[japan]['total_deaths'].dropna()"
   ]
  },
  {
   "cell_type": "code",
   "execution_count": null,
   "id": "chemical-perfume",
   "metadata": {},
   "outputs": [],
   "source": [
    "print('Japan Total Cases:\\nMinimum Cases:',japan_total_cases.min().astype(int))\n",
    "print('Maximum Cases:',japan_total_cases.max().astype(int))\n",
    "print('Average Number of Cases:',japan_total_cases.mean().round(decimals=2))\n",
    "print('Variance:',japan_total_cases.var().round(decimals=2))\n",
    "print('Standard Deviation:',japan_total_cases.std().round(decimals=2))"
   ]
  },
  {
   "cell_type": "code",
   "execution_count": null,
   "id": "worse-beatles",
   "metadata": {
    "scrolled": true
   },
   "outputs": [],
   "source": [
    "plt.plot(japan_total_cases)"
   ]
  },
  {
   "cell_type": "code",
   "execution_count": null,
   "id": "collected-plumbing",
   "metadata": {},
   "outputs": [],
   "source": [
    "print('Japan Total Tests:\\nMinimum Cases:',japan_total_tests.min().astype(int))\n",
    "print('Maximum Cases:',japan_total_tests.max().astype(int))\n",
    "print('Average Number of Cases:',japan_total_tests.mean().round(decimals=2))\n",
    "print('Variance:',japan_total_tests.var().round(decimals=2))\n",
    "print('Standard Deviation:',japan_total_tests.std().round(decimals=2))"
   ]
  },
  {
   "cell_type": "code",
   "execution_count": null,
   "id": "utility-expense",
   "metadata": {},
   "outputs": [],
   "source": [
    "plt.plot(japan_total_tests)"
   ]
  },
  {
   "cell_type": "code",
   "execution_count": null,
   "id": "legitimate-scheduling",
   "metadata": {},
   "outputs": [],
   "source": [
    "print('Japan Total Deaths:\\nMinimum Cases:',japan_total_deaths.min().astype(int))\n",
    "print('Maximum Cases:',japan_total_deaths.max().astype(int))\n",
    "print('Average Number of Cases:',japan_total_deaths.mean().round(decimals=2))\n",
    "print('Variance:',japan_total_deaths.var().round(decimals=2))\n",
    "print('Standard Deviation:',japan_total_deaths.std().round(decimals=2))"
   ]
  },
  {
   "cell_type": "code",
   "execution_count": null,
   "id": "indonesian-august",
   "metadata": {
    "scrolled": true
   },
   "outputs": [],
   "source": [
    "plt.plot(japan_total_deaths)"
   ]
  },
  {
   "cell_type": "markdown",
   "id": "certified-guard",
   "metadata": {},
   "source": [
    "# G1"
   ]
  },
  {
   "cell_type": "code",
   "execution_count": null,
   "id": "reported-surgeon",
   "metadata": {},
   "outputs": [],
   "source": [
    "cont_table = pd.crosstab(df['total_cases'], df['total_deaths'])\n",
    "cont_table"
   ]
  },
  {
   "cell_type": "code",
   "execution_count": null,
   "id": "injured-supply",
   "metadata": {},
   "outputs": [],
   "source": [
    "g, p, dof, expctd = stats.chi2_contingency(cont_table)\n",
    "\n",
    "g"
   ]
  },
  {
   "cell_type": "code",
   "execution_count": null,
   "id": "varied-depression",
   "metadata": {},
   "outputs": [],
   "source": []
  }
 ],
 "metadata": {
  "kernelspec": {
   "display_name": "Python 3",
   "language": "python",
   "name": "python3"
  },
  "language_info": {
   "codemirror_mode": {
    "name": "ipython",
    "version": 3
   },
   "file_extension": ".py",
   "mimetype": "text/x-python",
   "name": "python",
   "nbconvert_exporter": "python",
   "pygments_lexer": "ipython3",
   "version": "3.9.1"
  }
 },
 "nbformat": 4,
 "nbformat_minor": 5
}
