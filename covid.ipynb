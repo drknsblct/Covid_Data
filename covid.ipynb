{
 "cells": [
  {
   "cell_type": "code",
   "execution_count": 35,
   "id": "numerous-routine",
   "metadata": {
    "scrolled": false
   },
   "outputs": [],
   "source": [
    "import pandas as pd\n",
    "import matplotlib.pyplot as plt\n",
    "from datetime import timedelta"
   ]
  },
  {
   "cell_type": "code",
   "execution_count": 2,
   "id": "complicated-creation",
   "metadata": {
    "scrolled": false
   },
   "outputs": [],
   "source": [
    "df = pd.read_csv('covid-data.csv')"
   ]
  },
  {
   "cell_type": "code",
   "execution_count": 3,
   "id": "cheap-interstate",
   "metadata": {
    "scrolled": false
   },
   "outputs": [],
   "source": [
    "df['date'] = pd.to_datetime(df['date'])"
   ]
  },
  {
   "cell_type": "code",
   "execution_count": 4,
   "id": "smaller-spare",
   "metadata": {
    "scrolled": false
   },
   "outputs": [],
   "source": [
    "pd.set_option('display.max_rows', 187)\n",
    "pd.set_option('display.max_columns', 50)"
   ]
  },
  {
   "cell_type": "code",
   "execution_count": 5,
   "id": "double-climb",
   "metadata": {
    "scrolled": false
   },
   "outputs": [],
   "source": [
    "#A1"
   ]
  },
  {
   "cell_type": "code",
   "execution_count": 6,
   "id": "adopted-baltimore",
   "metadata": {
    "pycharm": {
     "is_executing": true
    },
    "scrolled": false
   },
   "outputs": [
    {
     "name": "stdout",
     "output_type": "stream",
     "text": [
      "China had the most total cases (81484) when Greece's lockdown started\n"
     ]
    }
   ],
   "source": [
    "date_greek_lockdown_started = df[(df['date'] == '2020-03-23') & (df['location'] != 'World')]['total_cases'].max()\n",
    "location = df.loc[df['total_cases'] == date_greek_lockdown_started] #A1\n",
    "\n",
    "#Variables to save name and number of cases\n",
    "name = location.iloc[0,2]\n",
    "total_cases = location.iloc[0,4]\n",
    "\n",
    "print(f\"{name} had the most total cases ({total_cases.astype(int)}) when Greece's lockdown started\")"
   ]
  },
  {
   "cell_type": "code",
   "execution_count": 7,
   "id": "spectacular-experiment",
   "metadata": {},
   "outputs": [],
   "source": [
    "#A2"
   ]
  },
  {
   "cell_type": "code",
   "execution_count": 8,
   "id": "deluxe-leone",
   "metadata": {
    "scrolled": true
   },
   "outputs": [
    {
     "name": "stdout",
     "output_type": "stream",
     "text": [
      "United States had the most new cases (19979) during 23-29/03/2020\n"
     ]
    }
   ],
   "source": [
    "second_to_last_week_of_march = df[(df['date'] >= '2020-03-23') & (df['date'] <= '2020-03-29') & (df['location'] != 'World')]['new_cases'].max()\n",
    "location = df.loc[df['new_cases'] == second_to_last_week_of_march] #A2 \n",
    "#Needs output with name and number of new cases\n",
    "\n",
    "name = location.iloc[0,2]\n",
    "new_cases = location.iloc[0,5]\n",
    "\n",
    "print(f\"{name} had the most new cases ({new_cases.astype(int)}) during 23-29/03/2020\")"
   ]
  },
  {
   "cell_type": "code",
   "execution_count": 9,
   "id": "meaning-costa",
   "metadata": {},
   "outputs": [],
   "source": [
    "#A3"
   ]
  },
  {
   "cell_type": "code",
   "execution_count": 10,
   "id": "handled-tampa",
   "metadata": {
    "scrolled": true
   },
   "outputs": [
    {
     "name": "stdout",
     "output_type": "stream",
     "text": [
      "Before the first lockdown (16-22/3/2020) Greece had: 302 cases\n",
      "Before the second lockdown (31/10/2020 - 6/11/2020) Greece had: 14297 cases\n"
     ]
    }
   ],
   "source": [
    "greece = (df['location'] == 'Greece')\n",
    "\n",
    "dates_before_first_lockdown = df[greece & ((df['date'] >= '2020-03-16') & (df['date'] <= '2020-03-22'))] #A3\n",
    "sum_of_new_cases_before_first_lockdown = dates_before_first_lockdown['new_cases'].sum()\n",
    "\n",
    "dates_before_second_lockdown = df[greece & ((df['date'] >= '2020-10-31') & (df['date'] <= '2020-11-06'))] #A3 \n",
    "sum_of_new_cases_before_second_lockdown = dates_before_second_lockdown['new_cases'].sum()\n",
    "\n",
    "print(f'Before the first lockdown (16-22/3/2020) Greece had: {sum_of_new_cases_before_first_lockdown.astype(int)} cases')\n",
    "print(f'Before the second lockdown (31/10/2020 - 6/11/2020) Greece had: {sum_of_new_cases_before_second_lockdown.astype(int)} cases')"
   ]
  },
  {
   "cell_type": "code",
   "execution_count": 11,
   "id": "visible-cornwall",
   "metadata": {},
   "outputs": [],
   "source": [
    "#A4"
   ]
  },
  {
   "cell_type": "code",
   "execution_count": 12,
   "id": "engaging-gasoline",
   "metadata": {
    "scrolled": false
   },
   "outputs": [
    {
     "name": "stdout",
     "output_type": "stream",
     "text": [
      "Belgium had the most total deaths per million: 1350.09\n"
     ]
    }
   ],
   "source": [
    "max_total_deaths_per_million = df[\"total_deaths_per_million\"].max()\n",
    "location = df.loc[df['total_deaths_per_million'] == max_total_deaths_per_million]\n",
    "\n",
    "name = location.iloc[0,2]\n",
    "total_deaths_per_million = location.iloc[0,13]\n",
    "\n",
    "print(f'{name} had the most total deaths per million: {total_deaths_per_million.round(decimals=2)}')"
   ]
  },
  {
   "cell_type": "code",
   "execution_count": 13,
   "id": "faced-palace",
   "metadata": {},
   "outputs": [],
   "source": [
    "#A5"
   ]
  },
  {
   "cell_type": "code",
   "execution_count": 14,
   "id": "cosmetic-machinery",
   "metadata": {
    "scrolled": false
   },
   "outputs": [
    {
     "name": "stdout",
     "output_type": "stream",
     "text": [
      "United States have the highest percentage of deaths per case (2.07%)\n"
     ]
    }
   ],
   "source": [
    "max_total_deaths = df[(df['location'] != 'World')]['total_deaths'].max()\n",
    "location_of_max_total_deaths = df.loc[df['total_deaths'] == max_total_deaths]#USA\n",
    "\n",
    "max_total_cases = df[(df['location'] != 'World')]['total_cases'].max()\n",
    "location_of_max_total_cases = df.loc[df['total_cases'] == max_total_cases] #USA\n",
    "\n",
    "name = location_of_max_total_deaths.iloc[0,2]\n",
    "\n",
    "percentage_of_deaths_per_case = (max_total_deaths/max_total_cases)*100\n",
    "\n",
    "print(f'{name} have the highest percentage of deaths per case ({percentage_of_deaths_per_case.round(decimals = 2)}%)')"
   ]
  },
  {
   "cell_type": "code",
   "execution_count": null,
   "id": "capable-civilian",
   "metadata": {},
   "outputs": [],
   "source": []
  },
  {
   "cell_type": "code",
   "execution_count": null,
   "id": "private-stability",
   "metadata": {},
   "outputs": [],
   "source": []
  },
  {
   "cell_type": "code",
   "execution_count": null,
   "id": "identical-correlation",
   "metadata": {},
   "outputs": [],
   "source": []
  },
  {
   "cell_type": "code",
   "execution_count": 15,
   "id": "alone-continuity",
   "metadata": {},
   "outputs": [],
   "source": [
    "#B1"
   ]
  },
  {
   "cell_type": "code",
   "execution_count": 29,
   "id": "enclosed-confidence",
   "metadata": {
    "scrolled": true
   },
   "outputs": [
    {
     "data": {
      "text/html": [
       "<div>\n",
       "<style scoped>\n",
       "    .dataframe tbody tr th:only-of-type {\n",
       "        vertical-align: middle;\n",
       "    }\n",
       "\n",
       "    .dataframe tbody tr th {\n",
       "        vertical-align: top;\n",
       "    }\n",
       "\n",
       "    .dataframe thead tr th {\n",
       "        text-align: left;\n",
       "    }\n",
       "\n",
       "    .dataframe thead tr:last-of-type th {\n",
       "        text-align: right;\n",
       "    }\n",
       "</style>\n",
       "<table border=\"1\" class=\"dataframe\">\n",
       "  <thead>\n",
       "    <tr>\n",
       "      <th></th>\n",
       "      <th colspan=\"2\" halign=\"left\">new_deaths</th>\n",
       "      <th colspan=\"2\" halign=\"left\">new_cases</th>\n",
       "    </tr>\n",
       "    <tr>\n",
       "      <th></th>\n",
       "      <th>median</th>\n",
       "      <th>std</th>\n",
       "      <th>median</th>\n",
       "      <th>std</th>\n",
       "    </tr>\n",
       "    <tr>\n",
       "      <th>date</th>\n",
       "      <th></th>\n",
       "      <th></th>\n",
       "      <th></th>\n",
       "      <th></th>\n",
       "    </tr>\n",
       "  </thead>\n",
       "  <tbody>\n",
       "    <tr>\n",
       "      <th>1</th>\n",
       "      <td>0.0</td>\n",
       "      <td>0.00</td>\n",
       "      <td>0.0</td>\n",
       "      <td>0.00</td>\n",
       "    </tr>\n",
       "    <tr>\n",
       "      <th>2</th>\n",
       "      <td>0.0</td>\n",
       "      <td>0.00</td>\n",
       "      <td>0.0</td>\n",
       "      <td>0.44</td>\n",
       "    </tr>\n",
       "    <tr>\n",
       "      <th>3</th>\n",
       "      <td>1.0</td>\n",
       "      <td>1.84</td>\n",
       "      <td>35.0</td>\n",
       "      <td>31.87</td>\n",
       "    </tr>\n",
       "    <tr>\n",
       "      <th>4</th>\n",
       "      <td>3.0</td>\n",
       "      <td>2.43</td>\n",
       "      <td>32.0</td>\n",
       "      <td>39.83</td>\n",
       "    </tr>\n",
       "    <tr>\n",
       "      <th>5</th>\n",
       "      <td>1.0</td>\n",
       "      <td>1.04</td>\n",
       "      <td>10.0</td>\n",
       "      <td>8.72</td>\n",
       "    </tr>\n",
       "    <tr>\n",
       "      <th>6</th>\n",
       "      <td>0.0</td>\n",
       "      <td>0.90</td>\n",
       "      <td>14.0</td>\n",
       "      <td>12.07</td>\n",
       "    </tr>\n",
       "    <tr>\n",
       "      <th>7</th>\n",
       "      <td>0.0</td>\n",
       "      <td>0.72</td>\n",
       "      <td>29.0</td>\n",
       "      <td>14.38</td>\n",
       "    </tr>\n",
       "    <tr>\n",
       "      <th>8</th>\n",
       "      <td>2.0</td>\n",
       "      <td>1.62</td>\n",
       "      <td>193.0</td>\n",
       "      <td>62.54</td>\n",
       "    </tr>\n",
       "    <tr>\n",
       "      <th>9</th>\n",
       "      <td>4.0</td>\n",
       "      <td>2.19</td>\n",
       "      <td>255.5</td>\n",
       "      <td>82.85</td>\n",
       "    </tr>\n",
       "    <tr>\n",
       "      <th>10</th>\n",
       "      <td>7.0</td>\n",
       "      <td>3.50</td>\n",
       "      <td>438.0</td>\n",
       "      <td>378.47</td>\n",
       "    </tr>\n",
       "    <tr>\n",
       "      <th>11</th>\n",
       "      <td>41.0</td>\n",
       "      <td>28.64</td>\n",
       "      <td>2402.5</td>\n",
       "      <td>621.04</td>\n",
       "    </tr>\n",
       "    <tr>\n",
       "      <th>12</th>\n",
       "      <td>0.0</td>\n",
       "      <td>NaN</td>\n",
       "      <td>0.0</td>\n",
       "      <td>NaN</td>\n",
       "    </tr>\n",
       "  </tbody>\n",
       "</table>\n",
       "</div>"
      ],
      "text/plain": [
       "     new_deaths        new_cases        \n",
       "         median    std    median     std\n",
       "date                                    \n",
       "1           0.0   0.00       0.0    0.00\n",
       "2           0.0   0.00       0.0    0.44\n",
       "3           1.0   1.84      35.0   31.87\n",
       "4           3.0   2.43      32.0   39.83\n",
       "5           1.0   1.04      10.0    8.72\n",
       "6           0.0   0.90      14.0   12.07\n",
       "7           0.0   0.72      29.0   14.38\n",
       "8           2.0   1.62     193.0   62.54\n",
       "9           4.0   2.19     255.5   82.85\n",
       "10          7.0   3.50     438.0  378.47\n",
       "11         41.0  28.64    2402.5  621.04\n",
       "12          0.0    NaN       0.0     NaN"
      ]
     },
     "execution_count": 29,
     "metadata": {},
     "output_type": "execute_result"
    }
   ],
   "source": [
    "greece_new_deaths_and_cases = df[greece].groupby(df[greece]['date'].dt.month)[['new_deaths', 'new_cases']].agg(['median','std']).round(decimals = 2)\n",
    "greece_new_deaths_and_cases"
   ]
  },
  {
   "cell_type": "code",
   "execution_count": 17,
   "id": "guided-klein",
   "metadata": {},
   "outputs": [],
   "source": [
    "#B2"
   ]
  },
  {
   "cell_type": "code",
   "execution_count": 72,
   "id": "through-anchor",
   "metadata": {},
   "outputs": [
    {
     "data": {
      "text/html": [
       "<div>\n",
       "<style scoped>\n",
       "    .dataframe tbody tr th:only-of-type {\n",
       "        vertical-align: middle;\n",
       "    }\n",
       "\n",
       "    .dataframe tbody tr th {\n",
       "        vertical-align: top;\n",
       "    }\n",
       "\n",
       "    .dataframe thead tr th {\n",
       "        text-align: left;\n",
       "    }\n",
       "\n",
       "    .dataframe thead tr:last-of-type th {\n",
       "        text-align: right;\n",
       "    }\n",
       "</style>\n",
       "<table border=\"1\" class=\"dataframe\">\n",
       "  <thead>\n",
       "    <tr>\n",
       "      <th></th>\n",
       "      <th colspan=\"2\" halign=\"left\">new_deaths</th>\n",
       "      <th colspan=\"2\" halign=\"left\">new_cases</th>\n",
       "    </tr>\n",
       "    <tr>\n",
       "      <th></th>\n",
       "      <th>median</th>\n",
       "      <th>std</th>\n",
       "      <th>median</th>\n",
       "      <th>std</th>\n",
       "    </tr>\n",
       "    <tr>\n",
       "      <th>date</th>\n",
       "      <th></th>\n",
       "      <th></th>\n",
       "      <th></th>\n",
       "      <th></th>\n",
       "    </tr>\n",
       "  </thead>\n",
       "  <tbody>\n",
       "    <tr>\n",
       "      <th>2</th>\n",
       "      <td>NaN</td>\n",
       "      <td>NaN</td>\n",
       "      <td>NaN</td>\n",
       "      <td>NaN</td>\n",
       "    </tr>\n",
       "    <tr>\n",
       "      <th>3</th>\n",
       "      <td>0.0</td>\n",
       "      <td>7.51</td>\n",
       "      <td>86.0</td>\n",
       "      <td>271.80</td>\n",
       "    </tr>\n",
       "    <tr>\n",
       "      <th>4</th>\n",
       "      <td>27.5</td>\n",
       "      <td>8.33</td>\n",
       "      <td>620.5</td>\n",
       "      <td>280.45</td>\n",
       "    </tr>\n",
       "    <tr>\n",
       "      <th>5</th>\n",
       "      <td>13.0</td>\n",
       "      <td>6.58</td>\n",
       "      <td>228.0</td>\n",
       "      <td>137.89</td>\n",
       "    </tr>\n",
       "    <tr>\n",
       "      <th>6</th>\n",
       "      <td>5.5</td>\n",
       "      <td>3.78</td>\n",
       "      <td>327.0</td>\n",
       "      <td>75.00</td>\n",
       "    </tr>\n",
       "    <tr>\n",
       "      <th>7</th>\n",
       "      <td>5.0</td>\n",
       "      <td>3.07</td>\n",
       "      <td>291.0</td>\n",
       "      <td>98.83</td>\n",
       "    </tr>\n",
       "    <tr>\n",
       "      <th>8</th>\n",
       "      <td>3.0</td>\n",
       "      <td>1.83</td>\n",
       "      <td>213.0</td>\n",
       "      <td>88.33</td>\n",
       "    </tr>\n",
       "    <tr>\n",
       "      <th>9</th>\n",
       "      <td>4.0</td>\n",
       "      <td>2.62</td>\n",
       "      <td>595.0</td>\n",
       "      <td>191.78</td>\n",
       "    </tr>\n",
       "    <tr>\n",
       "      <th>10</th>\n",
       "      <td>15.0</td>\n",
       "      <td>9.02</td>\n",
       "      <td>1876.0</td>\n",
       "      <td>1151.11</td>\n",
       "    </tr>\n",
       "    <tr>\n",
       "      <th>11</th>\n",
       "      <td>62.0</td>\n",
       "      <td>14.81</td>\n",
       "      <td>5667.0</td>\n",
       "      <td>1555.36</td>\n",
       "    </tr>\n",
       "  </tbody>\n",
       "</table>\n",
       "</div>"
      ],
      "text/plain": [
       "     new_deaths        new_cases         \n",
       "         median    std    median      std\n",
       "date                                     \n",
       "2           NaN    NaN       NaN      NaN\n",
       "3           0.0   7.51      86.0   271.80\n",
       "4          27.5   8.33     620.5   280.45\n",
       "5          13.0   6.58     228.0   137.89\n",
       "6           5.5   3.78     327.0    75.00\n",
       "7           5.0   3.07     291.0    98.83\n",
       "8           3.0   1.83     213.0    88.33\n",
       "9           4.0   2.62     595.0   191.78\n",
       "10         15.0   9.02    1876.0  1151.11\n",
       "11         62.0  14.81    5667.0  1555.36"
      ]
     },
     "execution_count": 72,
     "metadata": {},
     "output_type": "execute_result"
    }
   ],
   "source": [
    "portugal = df['location'] == \"Portugal\"\n",
    "\n",
    "portugal_new_deaths_and_cases = df[portugal].groupby(df[portugal]['date'].dt.month)[['new_deaths', 'new_cases']].agg(['median','std']).round(decimals = 2)\n",
    "portugal_new_deaths_and_cases"
   ]
  },
  {
   "cell_type": "code",
   "execution_count": 71,
   "id": "written-student",
   "metadata": {},
   "outputs": [
    {
     "data": {
      "text/plain": [
       "new_deaths  median      59.00\n",
       "            std         42.88\n",
       "new_cases   median    3409.00\n",
       "            std       1252.21\n",
       "dtype: float64"
      ]
     },
     "execution_count": 71,
     "metadata": {},
     "output_type": "execute_result"
    }
   ],
   "source": [
    "greece_new_deaths_and_cases.sum()"
   ]
  },
  {
   "cell_type": "code",
   "execution_count": 73,
   "id": "living-starter",
   "metadata": {},
   "outputs": [
    {
     "data": {
      "text/plain": [
       "new_deaths  median     135.00\n",
       "            std         57.55\n",
       "new_cases   median    9903.50\n",
       "            std       3850.55\n",
       "dtype: float64"
      ]
     },
     "execution_count": 73,
     "metadata": {},
     "output_type": "execute_result"
    }
   ],
   "source": [
    "portugal_new_deaths_and_cases.sum()"
   ]
  },
  {
   "cell_type": "code",
   "execution_count": 64,
   "id": "intelligent-sustainability",
   "metadata": {},
   "outputs": [
    {
     "name": "stdout",
     "output_type": "stream",
     "text": [
      "Based on the above data Greece does better\n"
     ]
    }
   ],
   "source": [
    "print('Based on the above data Greece does better than Portugal')"
   ]
  },
  {
   "cell_type": "code",
   "execution_count": null,
   "id": "adjusted-solomon",
   "metadata": {},
   "outputs": [],
   "source": []
  }
 ],
 "metadata": {
  "kernelspec": {
   "display_name": "Python 3",
   "language": "python",
   "name": "python3"
  },
  "language_info": {
   "codemirror_mode": {
    "name": "ipython",
    "version": 3
   },
   "file_extension": ".py",
   "mimetype": "text/x-python",
   "name": "python",
   "nbconvert_exporter": "python",
   "pygments_lexer": "ipython3",
   "version": "3.9.1"
  }
 },
 "nbformat": 4,
 "nbformat_minor": 5
}
