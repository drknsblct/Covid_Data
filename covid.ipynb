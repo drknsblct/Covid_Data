{
 "cells": [
  {
   "cell_type": "code",
   "execution_count": 107,
   "id": "numerous-routine",
   "metadata": {
    "scrolled": false
   },
   "outputs": [],
   "source": [
    "import pandas as pd"
   ]
  },
  {
   "cell_type": "code",
   "execution_count": 108,
   "id": "complicated-creation",
   "metadata": {
    "scrolled": false
   },
   "outputs": [],
   "source": [
    "df = pd.read_csv('covid-data.csv')"
   ]
  },
  {
   "cell_type": "code",
   "execution_count": 109,
   "id": "cheap-interstate",
   "metadata": {
    "scrolled": false
   },
   "outputs": [],
   "source": [
    "df['date'] = pd.to_datetime(df['date'])"
   ]
  },
  {
   "cell_type": "code",
   "execution_count": 110,
   "id": "smaller-spare",
   "metadata": {
    "scrolled": false
   },
   "outputs": [],
   "source": [
    "pd.set_option('display.max_rows', 187)\n",
    "pd.set_option('display.max_columns', 50)"
   ]
  },
  {
   "cell_type": "code",
   "execution_count": 111,
   "id": "double-climb",
   "metadata": {
    "scrolled": false
   },
   "outputs": [],
   "source": [
    "#A1"
   ]
  },
  {
   "cell_type": "code",
   "execution_count": 112,
   "id": "adopted-baltimore",
   "metadata": {
    "pycharm": {
     "is_executing": true
    },
    "scrolled": false
   },
   "outputs": [
    {
     "name": "stdout",
     "output_type": "stream",
     "text": [
      "China had the most total cases (81484) when Greece's lockdown started\n"
     ]
    }
   ],
   "source": [
    "date_greek_lockdown_started = df[(df['date'] == '2020-03-23') & (df['location'] != 'World')]['total_cases'].max()\n",
    "location = df.loc[df['total_cases'] == date_greek_lockdown_started] #A1\n",
    "\n",
    "#Variables to save name and number of cases\n",
    "name = location.iloc[0,2]\n",
    "total_cases = location.iloc[0,4]\n",
    "\n",
    "print(f\"{name} had the most total cases ({total_cases.astype(int)}) when Greece's lockdown started\")"
   ]
  },
  {
   "cell_type": "code",
   "execution_count": 113,
   "id": "northern-guatemala",
   "metadata": {},
   "outputs": [],
   "source": [
    "#A2"
   ]
  },
  {
   "cell_type": "code",
   "execution_count": 114,
   "id": "deluxe-leone",
   "metadata": {
    "scrolled": true
   },
   "outputs": [
    {
     "name": "stdout",
     "output_type": "stream",
     "text": [
      "United States had the most new cases (19979) during 23-29/03/2020\n"
     ]
    }
   ],
   "source": [
    "second_to_last_week_of_march = df[(df['date'] >= '2020-03-23') & (df['date'] <= '2020-03-29') & (df['location'] != 'World')]['new_cases'].max()\n",
    "location = df.loc[df['new_cases'] == second_to_last_week_of_march] #A2 \n",
    "#Needs output with name and number of new cases\n",
    "\n",
    "name = location.iloc[0,2]\n",
    "new_cases = location.iloc[0,5]\n",
    "\n",
    "print(f\"{name} had the most new cases ({new_cases.astype(int)}) during 23-29/03/2020\")"
   ]
  },
  {
   "cell_type": "code",
   "execution_count": 115,
   "id": "blocked-literature",
   "metadata": {},
   "outputs": [],
   "source": [
    "#A3"
   ]
  },
  {
   "cell_type": "code",
   "execution_count": 116,
   "id": "handled-tampa",
   "metadata": {
    "scrolled": true
   },
   "outputs": [
    {
     "name": "stdout",
     "output_type": "stream",
     "text": [
      "Before the first lockdown (16-22/3/2020) Greece had: 302 cases\n",
      "Before the second lockdown (31/10/2020 - 6/11/2020) Greece had: 14297 cases\n"
     ]
    }
   ],
   "source": [
    "greece = (df['location'] == 'Greece')\n",
    "\n",
    "dates_before_first_lockdown = df[greece & ((df['date'] >= '2020-03-16') & (df['date'] <= '2020-03-22'))] #A3\n",
    "sum_of_new_cases_before_first_lockdown = dates_before_first_lockdown['new_cases'].sum()\n",
    "\n",
    "dates_before_second_lockdown = df[greece & ((df['date'] >= '2020-10-31') & (df['date'] <= '2020-11-06'))] #A3 \n",
    "sum_of_new_cases_before_second_lockdown = dates_before_second_lockdown['new_cases'].sum()\n",
    "\n",
    "print(f'Before the first lockdown (16-22/3/2020) Greece had: {sum_of_new_cases_before_first_lockdown.astype(int)} cases')\n",
    "print(f'Before the second lockdown (31/10/2020 - 6/11/2020) Greece had: {sum_of_new_cases_before_second_lockdown.astype(int)} cases')"
   ]
  },
  {
   "cell_type": "code",
   "execution_count": 117,
   "id": "minute-attention",
   "metadata": {},
   "outputs": [],
   "source": [
    "#A4"
   ]
  },
  {
   "cell_type": "code",
   "execution_count": 118,
   "id": "engaging-gasoline",
   "metadata": {
    "scrolled": false
   },
   "outputs": [
    {
     "name": "stdout",
     "output_type": "stream",
     "text": [
      "United States had the most total deaths per million: 1350.09\n"
     ]
    }
   ],
   "source": [
    "max_total_deaths_per_million = df[\"total_deaths_per_million\"].max()\n",
    "location = df.loc[df['total_deaths_per_million'] == max_total_deaths_per_million]\n",
    "\n",
    "#name = location.iloc[0,2]\n",
    "#total_deaths_per_million = location.iloc[0,13]\n",
    "\n",
    "print(f'{name} had the most total deaths per million: {total_deaths_per_million.round(decimals=2)}')\n",
    "\n",
    "#Needs output with name and number of total_deaths_per_million\n",
    "#location"
   ]
  },
  {
   "cell_type": "code",
   "execution_count": 119,
   "id": "unusual-treatment",
   "metadata": {},
   "outputs": [],
   "source": [
    "#A5"
   ]
  },
  {
   "cell_type": "code",
   "execution_count": 120,
   "id": "cosmetic-machinery",
   "metadata": {
    "scrolled": false
   },
   "outputs": [
    {
     "name": "stdout",
     "output_type": "stream",
     "text": [
      "United States have the highest percentage of deaths per case with 2.07%\n"
     ]
    }
   ],
   "source": [
    "max_total_deaths = df[(df['location'] != 'World')]['total_deaths'].max()\n",
    "location_of_max_total_deaths = df.loc[df['total_deaths'] == max_total_deaths]#USA\n",
    "\n",
    "max_total_cases = df[(df['location'] != 'World')]['total_cases'].max()\n",
    "location_of_max_total_cases = df.loc[df['total_cases'] == max_total_cases] #USA\n",
    "\n",
    "name = location_of_max_total_deaths.iloc[0,2]\n",
    "\n",
    "percentage_of_deaths_per_case = (max_total_deaths/max_total_cases)*100\n",
    "\n",
    "print(f'{name} have the highest percentage of deaths per case with {percentage_of_deaths_per_case.round(decimals = 2)}%')"
   ]
  }
 ],
 "metadata": {
  "kernelspec": {
   "display_name": "Python 3",
   "language": "python",
   "name": "python3"
  },
  "language_info": {
   "codemirror_mode": {
    "name": "ipython",
    "version": 3
   },
   "file_extension": ".py",
   "mimetype": "text/x-python",
   "name": "python",
   "nbconvert_exporter": "python",
   "pygments_lexer": "ipython3",
   "version": "3.9.1"
  }
 },
 "nbformat": 4,
 "nbformat_minor": 5
}
