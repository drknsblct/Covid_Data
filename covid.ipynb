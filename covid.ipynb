{
 "cells": [
  {
   "cell_type": "code",
   "execution_count": 2,
   "id": "numerous-routine",
   "metadata": {
    "scrolled": false
   },
   "outputs": [],
   "source": [
    "import pandas as pd\n",
    "import matplotlib.pyplot as plt\n",
    "from datetime import timedelta"
   ]
  },
  {
   "cell_type": "code",
   "execution_count": 3,
   "id": "complicated-creation",
   "metadata": {
    "scrolled": false
   },
   "outputs": [],
   "source": [
    "df = pd.read_csv('covid-data.csv')"
   ]
  },
  {
   "cell_type": "code",
   "execution_count": 4,
   "id": "cheap-interstate",
   "metadata": {
    "scrolled": false
   },
   "outputs": [],
   "source": [
    "df['date'] = pd.to_datetime(df['date'])"
   ]
  },
  {
   "cell_type": "code",
   "execution_count": 5,
   "id": "smaller-spare",
   "metadata": {
    "scrolled": false
   },
   "outputs": [],
   "source": [
    "pd.set_option('display.max_rows', 187)\n",
    "pd.set_option('display.max_columns', 50)"
   ]
  },
  {
   "cell_type": "markdown",
   "id": "published-demographic",
   "metadata": {
    "scrolled": false
   },
   "source": [
    "# A1"
   ]
  },
  {
   "cell_type": "code",
   "execution_count": 6,
   "id": "adopted-baltimore",
   "metadata": {
    "pycharm": {
     "is_executing": true
    },
    "scrolled": false
   },
   "outputs": [
    {
     "name": "stdout",
     "output_type": "stream",
     "text": [
      "China had the most total cases (81484) when Greece's lockdown started\n"
     ]
    }
   ],
   "source": [
    "date_greek_lockdown_started = df[(df['date'] == '2020-03-23') & (df['location'] != 'World')]['total_cases'].max()\n",
    "location = df.loc[df['total_cases'] == date_greek_lockdown_started] #A1\n",
    "\n",
    "#Variables to save name and number of cases\n",
    "name = location.iloc[0,2]\n",
    "total_cases = location.iloc[0,4]\n",
    "\n",
    "print(f\"{name} had the most total cases ({total_cases.astype(int)}) when Greece's lockdown started\")"
   ]
  },
  {
   "cell_type": "markdown",
   "id": "excellent-enforcement",
   "metadata": {},
   "source": [
    "# A2"
   ]
  },
  {
   "cell_type": "code",
   "execution_count": 7,
   "id": "deluxe-leone",
   "metadata": {
    "scrolled": true
   },
   "outputs": [
    {
     "name": "stdout",
     "output_type": "stream",
     "text": [
      "United States had the most new cases (19979) during 23-29/03/2020\n"
     ]
    }
   ],
   "source": [
    "second_to_last_week_of_march = df[(df['date'] >= '2020-03-23') & (df['date'] <= '2020-03-29') & (df['location'] != 'World')]['new_cases'].max()\n",
    "location = df.loc[df['new_cases'] == second_to_last_week_of_march] #A2 \n",
    "#Needs output with name and number of new cases\n",
    "\n",
    "name = location.iloc[0,2]\n",
    "new_cases = location.iloc[0,5]\n",
    "\n",
    "print(f\"{name} had the most new cases ({new_cases.astype(int)}) during 23-29/03/2020\")"
   ]
  },
  {
   "cell_type": "markdown",
   "id": "sealed-incident",
   "metadata": {},
   "source": [
    "# A3"
   ]
  },
  {
   "cell_type": "code",
   "execution_count": 8,
   "id": "handled-tampa",
   "metadata": {
    "scrolled": true
   },
   "outputs": [
    {
     "name": "stdout",
     "output_type": "stream",
     "text": [
      "Before the first lockdown (16-22/3/2020) Greece had: 302 cases\n",
      "Before the second lockdown (31/10/2020 - 6/11/2020) Greece had: 14297 cases\n"
     ]
    }
   ],
   "source": [
    "greece = (df['location'] == 'Greece')\n",
    "\n",
    "dates_before_first_lockdown = df[greece & ((df['date'] >= '2020-03-16') & (df['date'] <= '2020-03-22'))] #A3\n",
    "sum_of_new_cases_before_first_lockdown = dates_before_first_lockdown['new_cases'].sum()\n",
    "\n",
    "dates_before_second_lockdown = df[greece & ((df['date'] >= '2020-10-31') & (df['date'] <= '2020-11-06'))] #A3 \n",
    "sum_of_new_cases_before_second_lockdown = dates_before_second_lockdown['new_cases'].sum()\n",
    "\n",
    "print(f'Before the first lockdown (16-22/3/2020) Greece had: {sum_of_new_cases_before_first_lockdown.astype(int)} cases')\n",
    "print(f'Before the second lockdown (31/10/2020 - 6/11/2020) Greece had: {sum_of_new_cases_before_second_lockdown.astype(int)} cases')"
   ]
  },
  {
   "cell_type": "markdown",
   "id": "acquired-minimum",
   "metadata": {},
   "source": [
    "# A4"
   ]
  },
  {
   "cell_type": "code",
   "execution_count": 9,
   "id": "engaging-gasoline",
   "metadata": {
    "scrolled": false
   },
   "outputs": [
    {
     "name": "stdout",
     "output_type": "stream",
     "text": [
      "Belgium had the most total deaths per million: 1350.09\n"
     ]
    }
   ],
   "source": [
    "max_total_deaths_per_million = df[\"total_deaths_per_million\"].max()\n",
    "location = df.loc[df['total_deaths_per_million'] == max_total_deaths_per_million]\n",
    "\n",
    "name = location.iloc[0,2]\n",
    "total_deaths_per_million = location.iloc[0,13]\n",
    "\n",
    "print(f'{name} had the most total deaths per million: {total_deaths_per_million.round(decimals=2)}')"
   ]
  },
  {
   "cell_type": "markdown",
   "id": "mexican-hungarian",
   "metadata": {},
   "source": [
    "# A5"
   ]
  },
  {
   "cell_type": "code",
   "execution_count": 25,
   "id": "cosmetic-machinery",
   "metadata": {
    "scrolled": false
   },
   "outputs": [
    {
     "data": {
      "text/html": [
       "<div>\n",
       "<style scoped>\n",
       "    .dataframe tbody tr th:only-of-type {\n",
       "        vertical-align: middle;\n",
       "    }\n",
       "\n",
       "    .dataframe tbody tr th {\n",
       "        vertical-align: top;\n",
       "    }\n",
       "\n",
       "    .dataframe thead th {\n",
       "        text-align: right;\n",
       "    }\n",
       "</style>\n",
       "<table border=\"1\" class=\"dataframe\">\n",
       "  <thead>\n",
       "    <tr style=\"text-align: right;\">\n",
       "      <th></th>\n",
       "      <th>iso_code</th>\n",
       "      <th>continent</th>\n",
       "      <th>location</th>\n",
       "      <th>date</th>\n",
       "      <th>total_cases</th>\n",
       "      <th>new_cases</th>\n",
       "      <th>new_cases_smoothed</th>\n",
       "      <th>total_deaths</th>\n",
       "      <th>new_deaths</th>\n",
       "      <th>new_deaths_smoothed</th>\n",
       "      <th>total_cases_per_million</th>\n",
       "      <th>new_cases_per_million</th>\n",
       "      <th>new_cases_smoothed_per_million</th>\n",
       "      <th>total_deaths_per_million</th>\n",
       "      <th>new_deaths_per_million</th>\n",
       "      <th>new_deaths_smoothed_per_million</th>\n",
       "      <th>reproduction_rate</th>\n",
       "      <th>icu_patients</th>\n",
       "      <th>icu_patients_per_million</th>\n",
       "      <th>hosp_patients</th>\n",
       "      <th>hosp_patients_per_million</th>\n",
       "      <th>weekly_icu_admissions</th>\n",
       "      <th>weekly_icu_admissions_per_million</th>\n",
       "      <th>weekly_hosp_admissions</th>\n",
       "      <th>weekly_hosp_admissions_per_million</th>\n",
       "      <th>total_tests</th>\n",
       "      <th>new_tests</th>\n",
       "      <th>total_tests_per_thousand</th>\n",
       "      <th>new_tests_per_thousand</th>\n",
       "      <th>new_tests_smoothed</th>\n",
       "      <th>new_tests_smoothed_per_thousand</th>\n",
       "      <th>tests_per_case</th>\n",
       "      <th>positive_rate</th>\n",
       "      <th>tests_units</th>\n",
       "      <th>stringency_index</th>\n",
       "      <th>population</th>\n",
       "      <th>population_density</th>\n",
       "      <th>median_age</th>\n",
       "      <th>aged_65_older</th>\n",
       "      <th>aged_70_older</th>\n",
       "      <th>gdp_per_capita</th>\n",
       "      <th>extreme_poverty</th>\n",
       "      <th>cardiovasc_death_rate</th>\n",
       "      <th>diabetes_prevalence</th>\n",
       "      <th>female_smokers</th>\n",
       "      <th>male_smokers</th>\n",
       "      <th>handwashing_facilities</th>\n",
       "      <th>hospital_beds_per_thousand</th>\n",
       "      <th>life_expectancy</th>\n",
       "      <th>human_development_index</th>\n",
       "    </tr>\n",
       "  </thead>\n",
       "  <tbody>\n",
       "    <tr>\n",
       "      <th>55658</th>\n",
       "      <td>USA</td>\n",
       "      <td>North America</td>\n",
       "      <td>United States</td>\n",
       "      <td>2020-11-24</td>\n",
       "      <td>12420872.0</td>\n",
       "      <td>173963.0</td>\n",
       "      <td>173626.571</td>\n",
       "      <td>257701.0</td>\n",
       "      <td>919.0</td>\n",
       "      <td>1497.286</td>\n",
       "      <td>37524.993</td>\n",
       "      <td>525.564</td>\n",
       "      <td>524.547</td>\n",
       "      <td>778.547</td>\n",
       "      <td>2.776</td>\n",
       "      <td>4.523</td>\n",
       "      <td>NaN</td>\n",
       "      <td>NaN</td>\n",
       "      <td>NaN</td>\n",
       "      <td>NaN</td>\n",
       "      <td>NaN</td>\n",
       "      <td>NaN</td>\n",
       "      <td>NaN</td>\n",
       "      <td>NaN</td>\n",
       "      <td>NaN</td>\n",
       "      <td>NaN</td>\n",
       "      <td>NaN</td>\n",
       "      <td>NaN</td>\n",
       "      <td>NaN</td>\n",
       "      <td>NaN</td>\n",
       "      <td>NaN</td>\n",
       "      <td>NaN</td>\n",
       "      <td>NaN</td>\n",
       "      <td>NaN</td>\n",
       "      <td>NaN</td>\n",
       "      <td>331002647.0</td>\n",
       "      <td>35.608</td>\n",
       "      <td>38.3</td>\n",
       "      <td>15.413</td>\n",
       "      <td>9.732</td>\n",
       "      <td>54225.446</td>\n",
       "      <td>1.2</td>\n",
       "      <td>151.089</td>\n",
       "      <td>10.79</td>\n",
       "      <td>19.1</td>\n",
       "      <td>24.6</td>\n",
       "      <td>NaN</td>\n",
       "      <td>2.77</td>\n",
       "      <td>78.86</td>\n",
       "      <td>0.924</td>\n",
       "    </tr>\n",
       "  </tbody>\n",
       "</table>\n",
       "</div>"
      ],
      "text/plain": [
       "      iso_code      continent       location       date  total_cases  \\\n",
       "55658      USA  North America  United States 2020-11-24   12420872.0   \n",
       "\n",
       "       new_cases  new_cases_smoothed  total_deaths  new_deaths  \\\n",
       "55658   173963.0          173626.571      257701.0       919.0   \n",
       "\n",
       "       new_deaths_smoothed  total_cases_per_million  new_cases_per_million  \\\n",
       "55658             1497.286                37524.993                525.564   \n",
       "\n",
       "       new_cases_smoothed_per_million  total_deaths_per_million  \\\n",
       "55658                         524.547                   778.547   \n",
       "\n",
       "       new_deaths_per_million  new_deaths_smoothed_per_million  \\\n",
       "55658                   2.776                            4.523   \n",
       "\n",
       "       reproduction_rate  icu_patients  icu_patients_per_million  \\\n",
       "55658                NaN           NaN                       NaN   \n",
       "\n",
       "       hosp_patients  hosp_patients_per_million  weekly_icu_admissions  \\\n",
       "55658            NaN                        NaN                    NaN   \n",
       "\n",
       "       weekly_icu_admissions_per_million  weekly_hosp_admissions  \\\n",
       "55658                                NaN                     NaN   \n",
       "\n",
       "       weekly_hosp_admissions_per_million  total_tests  new_tests  \\\n",
       "55658                                 NaN          NaN        NaN   \n",
       "\n",
       "       total_tests_per_thousand  new_tests_per_thousand  new_tests_smoothed  \\\n",
       "55658                       NaN                     NaN                 NaN   \n",
       "\n",
       "       new_tests_smoothed_per_thousand  tests_per_case  positive_rate  \\\n",
       "55658                              NaN             NaN            NaN   \n",
       "\n",
       "      tests_units  stringency_index   population  population_density  \\\n",
       "55658         NaN               NaN  331002647.0              35.608   \n",
       "\n",
       "       median_age  aged_65_older  aged_70_older  gdp_per_capita  \\\n",
       "55658        38.3         15.413          9.732       54225.446   \n",
       "\n",
       "       extreme_poverty  cardiovasc_death_rate  diabetes_prevalence  \\\n",
       "55658              1.2                151.089                10.79   \n",
       "\n",
       "       female_smokers  male_smokers  handwashing_facilities  \\\n",
       "55658            19.1          24.6                     NaN   \n",
       "\n",
       "       hospital_beds_per_thousand  life_expectancy  human_development_index  \n",
       "55658                        2.77            78.86                    0.924  "
      ]
     },
     "execution_count": 25,
     "metadata": {},
     "output_type": "execute_result"
    }
   ],
   "source": [
    "max_total_deaths = df[(df['location'] != 'World')]['total_deaths'].max()\n",
    "location_of_max_total_deaths = df.loc[df['total_deaths'] == max_total_deaths]#USA\n",
    "\n",
    "max_total_cases = df[(df['location'] != 'World')]['total_cases'].max()\n",
    "location_of_max_total_cases = df.loc[df['total_cases'] == max_total_cases] #USA\n",
    "\n",
    "name = location_of_max_total_deaths.iloc[0,2]\n",
    "\n",
    "percentage_of_deaths_per_case = (max_total_deaths/max_total_cases)*100\n",
    "\n",
    "print(f'{name} have the highest percentage of deaths per case ({percentage_of_deaths_per_case.round(decimals = 2)}%)')"
   ]
  },
  {
   "cell_type": "code",
   "execution_count": null,
   "id": "capable-civilian",
   "metadata": {},
   "outputs": [],
   "source": []
  },
  {
   "cell_type": "code",
   "execution_count": null,
   "id": "private-stability",
   "metadata": {},
   "outputs": [],
   "source": []
  },
  {
   "cell_type": "code",
   "execution_count": null,
   "id": "identical-correlation",
   "metadata": {},
   "outputs": [],
   "source": []
  },
  {
   "cell_type": "markdown",
   "id": "overall-doctrine",
   "metadata": {},
   "source": [
    "# B1"
   ]
  },
  {
   "cell_type": "code",
   "execution_count": 11,
   "id": "enclosed-confidence",
   "metadata": {
    "scrolled": true
   },
   "outputs": [
    {
     "data": {
      "text/html": [
       "<div>\n",
       "<style scoped>\n",
       "    .dataframe tbody tr th:only-of-type {\n",
       "        vertical-align: middle;\n",
       "    }\n",
       "\n",
       "    .dataframe tbody tr th {\n",
       "        vertical-align: top;\n",
       "    }\n",
       "\n",
       "    .dataframe thead tr th {\n",
       "        text-align: left;\n",
       "    }\n",
       "\n",
       "    .dataframe thead tr:last-of-type th {\n",
       "        text-align: right;\n",
       "    }\n",
       "</style>\n",
       "<table border=\"1\" class=\"dataframe\">\n",
       "  <thead>\n",
       "    <tr>\n",
       "      <th></th>\n",
       "      <th colspan=\"2\" halign=\"left\">new_deaths</th>\n",
       "      <th colspan=\"2\" halign=\"left\">new_cases</th>\n",
       "    </tr>\n",
       "    <tr>\n",
       "      <th></th>\n",
       "      <th>median</th>\n",
       "      <th>std</th>\n",
       "      <th>median</th>\n",
       "      <th>std</th>\n",
       "    </tr>\n",
       "    <tr>\n",
       "      <th>date</th>\n",
       "      <th></th>\n",
       "      <th></th>\n",
       "      <th></th>\n",
       "      <th></th>\n",
       "    </tr>\n",
       "  </thead>\n",
       "  <tbody>\n",
       "    <tr>\n",
       "      <th>1</th>\n",
       "      <td>0.0</td>\n",
       "      <td>0.00</td>\n",
       "      <td>0.0</td>\n",
       "      <td>0.00</td>\n",
       "    </tr>\n",
       "    <tr>\n",
       "      <th>2</th>\n",
       "      <td>0.0</td>\n",
       "      <td>0.00</td>\n",
       "      <td>0.0</td>\n",
       "      <td>0.44</td>\n",
       "    </tr>\n",
       "    <tr>\n",
       "      <th>3</th>\n",
       "      <td>1.0</td>\n",
       "      <td>1.84</td>\n",
       "      <td>35.0</td>\n",
       "      <td>31.87</td>\n",
       "    </tr>\n",
       "    <tr>\n",
       "      <th>4</th>\n",
       "      <td>3.0</td>\n",
       "      <td>2.43</td>\n",
       "      <td>32.0</td>\n",
       "      <td>39.83</td>\n",
       "    </tr>\n",
       "    <tr>\n",
       "      <th>5</th>\n",
       "      <td>1.0</td>\n",
       "      <td>1.04</td>\n",
       "      <td>10.0</td>\n",
       "      <td>8.72</td>\n",
       "    </tr>\n",
       "    <tr>\n",
       "      <th>6</th>\n",
       "      <td>0.0</td>\n",
       "      <td>0.90</td>\n",
       "      <td>14.0</td>\n",
       "      <td>12.07</td>\n",
       "    </tr>\n",
       "    <tr>\n",
       "      <th>7</th>\n",
       "      <td>0.0</td>\n",
       "      <td>0.72</td>\n",
       "      <td>29.0</td>\n",
       "      <td>14.38</td>\n",
       "    </tr>\n",
       "    <tr>\n",
       "      <th>8</th>\n",
       "      <td>2.0</td>\n",
       "      <td>1.62</td>\n",
       "      <td>193.0</td>\n",
       "      <td>62.54</td>\n",
       "    </tr>\n",
       "    <tr>\n",
       "      <th>9</th>\n",
       "      <td>4.0</td>\n",
       "      <td>2.19</td>\n",
       "      <td>255.5</td>\n",
       "      <td>82.85</td>\n",
       "    </tr>\n",
       "    <tr>\n",
       "      <th>10</th>\n",
       "      <td>7.0</td>\n",
       "      <td>3.50</td>\n",
       "      <td>438.0</td>\n",
       "      <td>378.47</td>\n",
       "    </tr>\n",
       "    <tr>\n",
       "      <th>11</th>\n",
       "      <td>41.0</td>\n",
       "      <td>28.64</td>\n",
       "      <td>2402.5</td>\n",
       "      <td>621.04</td>\n",
       "    </tr>\n",
       "    <tr>\n",
       "      <th>12</th>\n",
       "      <td>0.0</td>\n",
       "      <td>NaN</td>\n",
       "      <td>0.0</td>\n",
       "      <td>NaN</td>\n",
       "    </tr>\n",
       "  </tbody>\n",
       "</table>\n",
       "</div>"
      ],
      "text/plain": [
       "     new_deaths        new_cases        \n",
       "         median    std    median     std\n",
       "date                                    \n",
       "1           0.0   0.00       0.0    0.00\n",
       "2           0.0   0.00       0.0    0.44\n",
       "3           1.0   1.84      35.0   31.87\n",
       "4           3.0   2.43      32.0   39.83\n",
       "5           1.0   1.04      10.0    8.72\n",
       "6           0.0   0.90      14.0   12.07\n",
       "7           0.0   0.72      29.0   14.38\n",
       "8           2.0   1.62     193.0   62.54\n",
       "9           4.0   2.19     255.5   82.85\n",
       "10          7.0   3.50     438.0  378.47\n",
       "11         41.0  28.64    2402.5  621.04\n",
       "12          0.0    NaN       0.0     NaN"
      ]
     },
     "execution_count": 11,
     "metadata": {},
     "output_type": "execute_result"
    }
   ],
   "source": [
    "greece_new_deaths_and_cases = df[greece].groupby(df[greece]['date'].dt.month)[['new_deaths', 'new_cases']].agg(['median','std']).round(decimals = 2)\n",
    "greece_new_deaths_and_cases"
   ]
  },
  {
   "cell_type": "markdown",
   "id": "solid-swaziland",
   "metadata": {},
   "source": [
    "# B2"
   ]
  },
  {
   "cell_type": "code",
   "execution_count": 12,
   "id": "through-anchor",
   "metadata": {},
   "outputs": [
    {
     "data": {
      "text/html": [
       "<div>\n",
       "<style scoped>\n",
       "    .dataframe tbody tr th:only-of-type {\n",
       "        vertical-align: middle;\n",
       "    }\n",
       "\n",
       "    .dataframe tbody tr th {\n",
       "        vertical-align: top;\n",
       "    }\n",
       "\n",
       "    .dataframe thead tr th {\n",
       "        text-align: left;\n",
       "    }\n",
       "\n",
       "    .dataframe thead tr:last-of-type th {\n",
       "        text-align: right;\n",
       "    }\n",
       "</style>\n",
       "<table border=\"1\" class=\"dataframe\">\n",
       "  <thead>\n",
       "    <tr>\n",
       "      <th></th>\n",
       "      <th colspan=\"2\" halign=\"left\">new_deaths</th>\n",
       "      <th colspan=\"2\" halign=\"left\">new_cases</th>\n",
       "    </tr>\n",
       "    <tr>\n",
       "      <th></th>\n",
       "      <th>median</th>\n",
       "      <th>std</th>\n",
       "      <th>median</th>\n",
       "      <th>std</th>\n",
       "    </tr>\n",
       "    <tr>\n",
       "      <th>date</th>\n",
       "      <th></th>\n",
       "      <th></th>\n",
       "      <th></th>\n",
       "      <th></th>\n",
       "    </tr>\n",
       "  </thead>\n",
       "  <tbody>\n",
       "    <tr>\n",
       "      <th>2</th>\n",
       "      <td>NaN</td>\n",
       "      <td>NaN</td>\n",
       "      <td>NaN</td>\n",
       "      <td>NaN</td>\n",
       "    </tr>\n",
       "    <tr>\n",
       "      <th>3</th>\n",
       "      <td>0.0</td>\n",
       "      <td>7.51</td>\n",
       "      <td>86.0</td>\n",
       "      <td>271.80</td>\n",
       "    </tr>\n",
       "    <tr>\n",
       "      <th>4</th>\n",
       "      <td>27.5</td>\n",
       "      <td>8.33</td>\n",
       "      <td>620.5</td>\n",
       "      <td>280.45</td>\n",
       "    </tr>\n",
       "    <tr>\n",
       "      <th>5</th>\n",
       "      <td>13.0</td>\n",
       "      <td>6.58</td>\n",
       "      <td>228.0</td>\n",
       "      <td>137.89</td>\n",
       "    </tr>\n",
       "    <tr>\n",
       "      <th>6</th>\n",
       "      <td>5.5</td>\n",
       "      <td>3.78</td>\n",
       "      <td>327.0</td>\n",
       "      <td>75.00</td>\n",
       "    </tr>\n",
       "    <tr>\n",
       "      <th>7</th>\n",
       "      <td>5.0</td>\n",
       "      <td>3.07</td>\n",
       "      <td>291.0</td>\n",
       "      <td>98.83</td>\n",
       "    </tr>\n",
       "    <tr>\n",
       "      <th>8</th>\n",
       "      <td>3.0</td>\n",
       "      <td>1.83</td>\n",
       "      <td>213.0</td>\n",
       "      <td>88.33</td>\n",
       "    </tr>\n",
       "    <tr>\n",
       "      <th>9</th>\n",
       "      <td>4.0</td>\n",
       "      <td>2.62</td>\n",
       "      <td>595.0</td>\n",
       "      <td>191.78</td>\n",
       "    </tr>\n",
       "    <tr>\n",
       "      <th>10</th>\n",
       "      <td>15.0</td>\n",
       "      <td>9.02</td>\n",
       "      <td>1876.0</td>\n",
       "      <td>1151.11</td>\n",
       "    </tr>\n",
       "    <tr>\n",
       "      <th>11</th>\n",
       "      <td>62.0</td>\n",
       "      <td>14.81</td>\n",
       "      <td>5667.0</td>\n",
       "      <td>1555.36</td>\n",
       "    </tr>\n",
       "  </tbody>\n",
       "</table>\n",
       "</div>"
      ],
      "text/plain": [
       "     new_deaths        new_cases         \n",
       "         median    std    median      std\n",
       "date                                     \n",
       "2           NaN    NaN       NaN      NaN\n",
       "3           0.0   7.51      86.0   271.80\n",
       "4          27.5   8.33     620.5   280.45\n",
       "5          13.0   6.58     228.0   137.89\n",
       "6           5.5   3.78     327.0    75.00\n",
       "7           5.0   3.07     291.0    98.83\n",
       "8           3.0   1.83     213.0    88.33\n",
       "9           4.0   2.62     595.0   191.78\n",
       "10         15.0   9.02    1876.0  1151.11\n",
       "11         62.0  14.81    5667.0  1555.36"
      ]
     },
     "execution_count": 12,
     "metadata": {},
     "output_type": "execute_result"
    }
   ],
   "source": [
    "portugal = df['location'] == \"Portugal\"\n",
    "\n",
    "portugal_new_deaths_and_cases = df[portugal].groupby(df[portugal]['date'].dt.month)[['new_deaths', 'new_cases']].agg(['median','std']).round(decimals = 2)\n",
    "portugal_new_deaths_and_cases"
   ]
  },
  {
   "cell_type": "code",
   "execution_count": 13,
   "id": "written-student",
   "metadata": {},
   "outputs": [
    {
     "data": {
      "text/plain": [
       "new_deaths  median      59.00\n",
       "            std         42.88\n",
       "new_cases   median    3409.00\n",
       "            std       1252.21\n",
       "dtype: float64"
      ]
     },
     "execution_count": 13,
     "metadata": {},
     "output_type": "execute_result"
    }
   ],
   "source": [
    "greece_new_deaths_and_cases.sum()"
   ]
  },
  {
   "cell_type": "code",
   "execution_count": 14,
   "id": "living-starter",
   "metadata": {},
   "outputs": [
    {
     "data": {
      "text/plain": [
       "new_deaths  median     135.00\n",
       "            std         57.55\n",
       "new_cases   median    9903.50\n",
       "            std       3850.55\n",
       "dtype: float64"
      ]
     },
     "execution_count": 14,
     "metadata": {},
     "output_type": "execute_result"
    }
   ],
   "source": [
    "portugal_new_deaths_and_cases.sum()"
   ]
  },
  {
   "cell_type": "code",
   "execution_count": 15,
   "id": "intelligent-sustainability",
   "metadata": {},
   "outputs": [
    {
     "name": "stdout",
     "output_type": "stream",
     "text": [
      "Based on the above data Greece does better than Portugal\n"
     ]
    }
   ],
   "source": [
    "print('Based on the above data Greece does better than Portugal')"
   ]
  },
  {
   "cell_type": "code",
   "execution_count": null,
   "id": "adjusted-solomon",
   "metadata": {},
   "outputs": [],
   "source": []
  },
  {
   "cell_type": "code",
   "execution_count": null,
   "id": "casual-interest",
   "metadata": {},
   "outputs": [],
   "source": []
  },
  {
   "cell_type": "code",
   "execution_count": null,
   "id": "random-actor",
   "metadata": {},
   "outputs": [],
   "source": []
  },
  {
   "cell_type": "markdown",
   "id": "hybrid-welcome",
   "metadata": {},
   "source": [
    "# A5"
   ]
  },
  {
   "cell_type": "code",
   "execution_count": 32,
   "id": "hollow-sewing",
   "metadata": {
    "scrolled": true
   },
   "outputs": [
    {
     "data": {
      "text/plain": [
       "Timestamp('2020-11-24 00:00:00')"
      ]
     },
     "execution_count": 32,
     "metadata": {},
     "output_type": "execute_result"
    }
   ],
   "source": []
  },
  {
   "cell_type": "code",
   "execution_count": 66,
   "id": "instructional-reset",
   "metadata": {},
   "outputs": [
    {
     "data": {
      "text/plain": [
       "0.28903654485049834"
      ]
     },
     "execution_count": 66,
     "metadata": {},
     "output_type": "execute_result"
    }
   ],
   "source": [
    "all_locations_latest_date = df[(df['date'] == df['date'].max()) & (df['location'] != 'World') & (df['location'] != 'International')]\n",
    "all_locations_latest_date['total_deaths'].div(all_locations_latest_date['total_cases']).max()\n",
    "\n",
    "\n",
    "\n",
    "#a = df.loc[df['total_cases'] == max_total_cases] #USA\n",
    "#name = location_of_max_total_deaths.iloc[0,2]"
   ]
  },
  {
   "cell_type": "code",
   "execution_count": null,
   "id": "western-revolution",
   "metadata": {},
   "outputs": [],
   "source": []
  }
 ],
 "metadata": {
  "kernelspec": {
   "display_name": "Python 3",
   "language": "python",
   "name": "python3"
  },
  "language_info": {
   "codemirror_mode": {
    "name": "ipython",
    "version": 3
   },
   "file_extension": ".py",
   "mimetype": "text/x-python",
   "name": "python",
   "nbconvert_exporter": "python",
   "pygments_lexer": "ipython3",
   "version": "3.9.1"
  }
 },
 "nbformat": 4,
 "nbformat_minor": 5
}
